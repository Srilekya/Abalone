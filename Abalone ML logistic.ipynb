{
 "cells": [
  {
   "cell_type": "code",
   "execution_count": null,
   "metadata": {
    "azdata_cell_guid": "b7569b90-4c67-4581-b55b-a2d62eccafa3"
   },
   "outputs": [],
   "source": [
    "import pandas as pd\n",
    "import numpy as np\n",
    "import matplotlib.pyplot as plt\n",
    "import seaborn as sns\n",
    "from sklearn.metrics import classification_report as cr, confusion_matrix as cm"
   ]
  },
  {
   "cell_type": "code",
   "execution_count": 2,
   "metadata": {
    "azdata_cell_guid": "461073cc-9026-4a8e-b922-e27ed3003226"
   },
   "outputs": [
    {
     "data": {
      "text/html": [
       "<div>\n",
       "<style scoped>\n",
       "    .dataframe tbody tr th:only-of-type {\n",
       "        vertical-align: middle;\n",
       "    }\n",
       "\n",
       "    .dataframe tbody tr th {\n",
       "        vertical-align: top;\n",
       "    }\n",
       "\n",
       "    .dataframe thead th {\n",
       "        text-align: right;\n",
       "    }\n",
       "</style>\n",
       "<table border=\"1\" class=\"dataframe\">\n",
       "  <thead>\n",
       "    <tr style=\"text-align: right;\">\n",
       "      <th></th>\n",
       "      <th>M</th>\n",
       "      <th>0.455</th>\n",
       "      <th>0.365</th>\n",
       "      <th>0.095</th>\n",
       "      <th>0.514</th>\n",
       "      <th>0.2245</th>\n",
       "      <th>0.101</th>\n",
       "      <th>0.15</th>\n",
       "      <th>15</th>\n",
       "    </tr>\n",
       "  </thead>\n",
       "  <tbody>\n",
       "    <tr>\n",
       "      <th>0</th>\n",
       "      <td>M</td>\n",
       "      <td>0.350</td>\n",
       "      <td>0.265</td>\n",
       "      <td>0.090</td>\n",
       "      <td>0.2255</td>\n",
       "      <td>0.0995</td>\n",
       "      <td>0.0485</td>\n",
       "      <td>0.070</td>\n",
       "      <td>7</td>\n",
       "    </tr>\n",
       "    <tr>\n",
       "      <th>1</th>\n",
       "      <td>F</td>\n",
       "      <td>0.530</td>\n",
       "      <td>0.420</td>\n",
       "      <td>0.135</td>\n",
       "      <td>0.6770</td>\n",
       "      <td>0.2565</td>\n",
       "      <td>0.1415</td>\n",
       "      <td>0.210</td>\n",
       "      <td>9</td>\n",
       "    </tr>\n",
       "    <tr>\n",
       "      <th>2</th>\n",
       "      <td>M</td>\n",
       "      <td>0.440</td>\n",
       "      <td>0.365</td>\n",
       "      <td>0.125</td>\n",
       "      <td>0.5160</td>\n",
       "      <td>0.2155</td>\n",
       "      <td>0.1140</td>\n",
       "      <td>0.155</td>\n",
       "      <td>10</td>\n",
       "    </tr>\n",
       "    <tr>\n",
       "      <th>3</th>\n",
       "      <td>I</td>\n",
       "      <td>0.330</td>\n",
       "      <td>0.255</td>\n",
       "      <td>0.080</td>\n",
       "      <td>0.2050</td>\n",
       "      <td>0.0895</td>\n",
       "      <td>0.0395</td>\n",
       "      <td>0.055</td>\n",
       "      <td>7</td>\n",
       "    </tr>\n",
       "    <tr>\n",
       "      <th>4</th>\n",
       "      <td>I</td>\n",
       "      <td>0.425</td>\n",
       "      <td>0.300</td>\n",
       "      <td>0.095</td>\n",
       "      <td>0.3515</td>\n",
       "      <td>0.1410</td>\n",
       "      <td>0.0775</td>\n",
       "      <td>0.120</td>\n",
       "      <td>8</td>\n",
       "    </tr>\n",
       "  </tbody>\n",
       "</table>\n",
       "</div>"
      ],
      "text/plain": [
       "   M  0.455  0.365  0.095   0.514  0.2245   0.101   0.15  15\n",
       "0  M  0.350  0.265  0.090  0.2255  0.0995  0.0485  0.070   7\n",
       "1  F  0.530  0.420  0.135  0.6770  0.2565  0.1415  0.210   9\n",
       "2  M  0.440  0.365  0.125  0.5160  0.2155  0.1140  0.155  10\n",
       "3  I  0.330  0.255  0.080  0.2050  0.0895  0.0395  0.055   7\n",
       "4  I  0.425  0.300  0.095  0.3515  0.1410  0.0775  0.120   8"
      ]
     },
     "execution_count": 2,
     "metadata": {},
     "output_type": "execute_result"
    }
   ],
   "source": [
    "data = pd.read_csv('Abalone.csv')\n",
    "data.head()"
   ]
  },
  {
   "cell_type": "code",
   "execution_count": 3,
   "metadata": {
    "azdata_cell_guid": "4b242de9-324d-4c80-bd4f-39cfd3ac9a0a"
   },
   "outputs": [],
   "source": [
    "data.columns = ['Sex','Length','Diameter','Height','Wholeweight','Shuckedweight','Viseraaweight','Shellweight','Rings']"
   ]
  },
  {
   "cell_type": "code",
   "execution_count": 4,
   "metadata": {
    "azdata_cell_guid": "dfa3b9df-b166-475b-93d1-93c838975ecb"
   },
   "outputs": [
    {
     "data": {
      "text/html": [
       "<div>\n",
       "<style scoped>\n",
       "    .dataframe tbody tr th:only-of-type {\n",
       "        vertical-align: middle;\n",
       "    }\n",
       "\n",
       "    .dataframe tbody tr th {\n",
       "        vertical-align: top;\n",
       "    }\n",
       "\n",
       "    .dataframe thead th {\n",
       "        text-align: right;\n",
       "    }\n",
       "</style>\n",
       "<table border=\"1\" class=\"dataframe\">\n",
       "  <thead>\n",
       "    <tr style=\"text-align: right;\">\n",
       "      <th></th>\n",
       "      <th>Sex</th>\n",
       "      <th>Length</th>\n",
       "      <th>Diameter</th>\n",
       "      <th>Height</th>\n",
       "      <th>Wholeweight</th>\n",
       "      <th>Shuckedweight</th>\n",
       "      <th>Viseraaweight</th>\n",
       "      <th>Shellweight</th>\n",
       "      <th>Rings</th>\n",
       "    </tr>\n",
       "  </thead>\n",
       "  <tbody>\n",
       "    <tr>\n",
       "      <th>0</th>\n",
       "      <td>M</td>\n",
       "      <td>0.350</td>\n",
       "      <td>0.265</td>\n",
       "      <td>0.090</td>\n",
       "      <td>0.2255</td>\n",
       "      <td>0.0995</td>\n",
       "      <td>0.0485</td>\n",
       "      <td>0.070</td>\n",
       "      <td>7</td>\n",
       "    </tr>\n",
       "    <tr>\n",
       "      <th>1</th>\n",
       "      <td>F</td>\n",
       "      <td>0.530</td>\n",
       "      <td>0.420</td>\n",
       "      <td>0.135</td>\n",
       "      <td>0.6770</td>\n",
       "      <td>0.2565</td>\n",
       "      <td>0.1415</td>\n",
       "      <td>0.210</td>\n",
       "      <td>9</td>\n",
       "    </tr>\n",
       "    <tr>\n",
       "      <th>2</th>\n",
       "      <td>M</td>\n",
       "      <td>0.440</td>\n",
       "      <td>0.365</td>\n",
       "      <td>0.125</td>\n",
       "      <td>0.5160</td>\n",
       "      <td>0.2155</td>\n",
       "      <td>0.1140</td>\n",
       "      <td>0.155</td>\n",
       "      <td>10</td>\n",
       "    </tr>\n",
       "    <tr>\n",
       "      <th>3</th>\n",
       "      <td>I</td>\n",
       "      <td>0.330</td>\n",
       "      <td>0.255</td>\n",
       "      <td>0.080</td>\n",
       "      <td>0.2050</td>\n",
       "      <td>0.0895</td>\n",
       "      <td>0.0395</td>\n",
       "      <td>0.055</td>\n",
       "      <td>7</td>\n",
       "    </tr>\n",
       "    <tr>\n",
       "      <th>4</th>\n",
       "      <td>I</td>\n",
       "      <td>0.425</td>\n",
       "      <td>0.300</td>\n",
       "      <td>0.095</td>\n",
       "      <td>0.3515</td>\n",
       "      <td>0.1410</td>\n",
       "      <td>0.0775</td>\n",
       "      <td>0.120</td>\n",
       "      <td>8</td>\n",
       "    </tr>\n",
       "  </tbody>\n",
       "</table>\n",
       "</div>"
      ],
      "text/plain": [
       "  Sex  Length  Diameter  Height  Wholeweight  Shuckedweight  Viseraaweight  \\\n",
       "0   M   0.350     0.265   0.090       0.2255         0.0995         0.0485   \n",
       "1   F   0.530     0.420   0.135       0.6770         0.2565         0.1415   \n",
       "2   M   0.440     0.365   0.125       0.5160         0.2155         0.1140   \n",
       "3   I   0.330     0.255   0.080       0.2050         0.0895         0.0395   \n",
       "4   I   0.425     0.300   0.095       0.3515         0.1410         0.0775   \n",
       "\n",
       "   Shellweight  Rings  \n",
       "0        0.070      7  \n",
       "1        0.210      9  \n",
       "2        0.155     10  \n",
       "3        0.055      7  \n",
       "4        0.120      8  "
      ]
     },
     "execution_count": 4,
     "metadata": {},
     "output_type": "execute_result"
    }
   ],
   "source": [
    "data.head()"
   ]
  },
  {
   "cell_type": "markdown",
   "metadata": {
    "azdata_cell_guid": "38cbb8e8-467d-470c-8f33-501bc3a9eabd"
   },
   "source": [
    "## CASE - 2"
   ]
  },
  {
   "cell_type": "code",
   "execution_count": 5,
   "metadata": {
    "azdata_cell_guid": "5c4335f9-4ad4-48cf-8c6b-30e4513d2a4c"
   },
   "outputs": [],
   "source": [
    "data['Rings'] = data['Rings'].mask(data['Rings'] <= 15, 0)"
   ]
  },
  {
   "cell_type": "code",
   "execution_count": 6,
   "metadata": {
    "azdata_cell_guid": "309d7101-1943-4ba6-b18c-49c10276e24b"
   },
   "outputs": [],
   "source": [
    "data['Rings'] = data['Rings'].mask(data['Rings'] >15, 1)"
   ]
  },
  {
   "cell_type": "markdown",
   "metadata": {
    "azdata_cell_guid": "384f1a14-c897-4754-b9f2-e00c9aa83887"
   },
   "source": [
    "##### Prevalance Rate:  Case: 1 == threshold 10, case: 2 == threshold 15\n"
   ]
  },
  {
   "cell_type": "code",
   "execution_count": 7,
   "metadata": {
    "azdata_cell_guid": "40d4c828-b44e-42c0-9685-4c0349658474"
   },
   "outputs": [
    {
     "data": {
      "text/plain": [
       "0    93.75\n",
       "1     6.25\n",
       "Name: Rings, dtype: float64"
      ]
     },
     "execution_count": 7,
     "metadata": {},
     "output_type": "execute_result"
    }
   ],
   "source": [
    "data.Rings.value_counts(normalize = True) * 100"
   ]
  },
  {
   "cell_type": "markdown",
   "metadata": {
    "azdata_cell_guid": "ea88a322-8839-476c-ac09-d906cab74c74"
   },
   "source": [
    "Minority class is 34% hence it crossed threshold value of 25%,"
   ]
  },
  {
   "cell_type": "code",
   "execution_count": 8,
   "metadata": {
    "azdata_cell_guid": "7bf4076c-ee32-4804-8d44-71a5007fce47"
   },
   "outputs": [
    {
     "data": {
      "text/plain": [
       "array(['M', 'F', 'I'], dtype=object)"
      ]
     },
     "execution_count": 8,
     "metadata": {},
     "output_type": "execute_result"
    }
   ],
   "source": [
    "data.Sex.unique()"
   ]
  },
  {
   "cell_type": "code",
   "execution_count": 9,
   "metadata": {
    "azdata_cell_guid": "ca76926c-2ac6-423f-8b26-68d0f52dd54e"
   },
   "outputs": [],
   "source": [
    "data.Sex = data.Sex.replace({'M': 1, 'F':2,'I':3})"
   ]
  },
  {
   "cell_type": "code",
   "execution_count": 10,
   "metadata": {
    "azdata_cell_guid": "0665f5f3-c6a0-4522-9a6d-1a01cab3b75e"
   },
   "outputs": [
    {
     "data": {
      "text/plain": [
       "array([1, 2, 3], dtype=int64)"
      ]
     },
     "execution_count": 10,
     "metadata": {},
     "output_type": "execute_result"
    }
   ],
   "source": [
    "data.Sex.unique()"
   ]
  },
  {
   "cell_type": "code",
   "execution_count": 11,
   "metadata": {
    "azdata_cell_guid": "eccab37c-ec7f-431f-aee7-87a2e2f60118"
   },
   "outputs": [
    {
     "data": {
      "text/html": [
       "<div>\n",
       "<style scoped>\n",
       "    .dataframe tbody tr th:only-of-type {\n",
       "        vertical-align: middle;\n",
       "    }\n",
       "\n",
       "    .dataframe tbody tr th {\n",
       "        vertical-align: top;\n",
       "    }\n",
       "\n",
       "    .dataframe thead th {\n",
       "        text-align: right;\n",
       "    }\n",
       "</style>\n",
       "<table border=\"1\" class=\"dataframe\">\n",
       "  <thead>\n",
       "    <tr style=\"text-align: right;\">\n",
       "      <th></th>\n",
       "      <th>Sex</th>\n",
       "      <th>Length</th>\n",
       "      <th>Diameter</th>\n",
       "      <th>Height</th>\n",
       "      <th>Wholeweight</th>\n",
       "      <th>Shuckedweight</th>\n",
       "      <th>Viseraaweight</th>\n",
       "      <th>Shellweight</th>\n",
       "      <th>Rings</th>\n",
       "    </tr>\n",
       "  </thead>\n",
       "  <tbody>\n",
       "    <tr>\n",
       "      <th>0</th>\n",
       "      <td>1</td>\n",
       "      <td>0.350</td>\n",
       "      <td>0.265</td>\n",
       "      <td>0.090</td>\n",
       "      <td>0.2255</td>\n",
       "      <td>0.0995</td>\n",
       "      <td>0.0485</td>\n",
       "      <td>0.0700</td>\n",
       "      <td>0</td>\n",
       "    </tr>\n",
       "    <tr>\n",
       "      <th>1</th>\n",
       "      <td>2</td>\n",
       "      <td>0.530</td>\n",
       "      <td>0.420</td>\n",
       "      <td>0.135</td>\n",
       "      <td>0.6770</td>\n",
       "      <td>0.2565</td>\n",
       "      <td>0.1415</td>\n",
       "      <td>0.2100</td>\n",
       "      <td>0</td>\n",
       "    </tr>\n",
       "    <tr>\n",
       "      <th>2</th>\n",
       "      <td>1</td>\n",
       "      <td>0.440</td>\n",
       "      <td>0.365</td>\n",
       "      <td>0.125</td>\n",
       "      <td>0.5160</td>\n",
       "      <td>0.2155</td>\n",
       "      <td>0.1140</td>\n",
       "      <td>0.1550</td>\n",
       "      <td>0</td>\n",
       "    </tr>\n",
       "    <tr>\n",
       "      <th>3</th>\n",
       "      <td>3</td>\n",
       "      <td>0.330</td>\n",
       "      <td>0.255</td>\n",
       "      <td>0.080</td>\n",
       "      <td>0.2050</td>\n",
       "      <td>0.0895</td>\n",
       "      <td>0.0395</td>\n",
       "      <td>0.0550</td>\n",
       "      <td>0</td>\n",
       "    </tr>\n",
       "    <tr>\n",
       "      <th>4</th>\n",
       "      <td>3</td>\n",
       "      <td>0.425</td>\n",
       "      <td>0.300</td>\n",
       "      <td>0.095</td>\n",
       "      <td>0.3515</td>\n",
       "      <td>0.1410</td>\n",
       "      <td>0.0775</td>\n",
       "      <td>0.1200</td>\n",
       "      <td>0</td>\n",
       "    </tr>\n",
       "    <tr>\n",
       "      <th>...</th>\n",
       "      <td>...</td>\n",
       "      <td>...</td>\n",
       "      <td>...</td>\n",
       "      <td>...</td>\n",
       "      <td>...</td>\n",
       "      <td>...</td>\n",
       "      <td>...</td>\n",
       "      <td>...</td>\n",
       "      <td>...</td>\n",
       "    </tr>\n",
       "    <tr>\n",
       "      <th>4171</th>\n",
       "      <td>2</td>\n",
       "      <td>0.565</td>\n",
       "      <td>0.450</td>\n",
       "      <td>0.165</td>\n",
       "      <td>0.8870</td>\n",
       "      <td>0.3700</td>\n",
       "      <td>0.2390</td>\n",
       "      <td>0.2490</td>\n",
       "      <td>0</td>\n",
       "    </tr>\n",
       "    <tr>\n",
       "      <th>4172</th>\n",
       "      <td>1</td>\n",
       "      <td>0.590</td>\n",
       "      <td>0.440</td>\n",
       "      <td>0.135</td>\n",
       "      <td>0.9660</td>\n",
       "      <td>0.4390</td>\n",
       "      <td>0.2145</td>\n",
       "      <td>0.2605</td>\n",
       "      <td>0</td>\n",
       "    </tr>\n",
       "    <tr>\n",
       "      <th>4173</th>\n",
       "      <td>1</td>\n",
       "      <td>0.600</td>\n",
       "      <td>0.475</td>\n",
       "      <td>0.205</td>\n",
       "      <td>1.1760</td>\n",
       "      <td>0.5255</td>\n",
       "      <td>0.2875</td>\n",
       "      <td>0.3080</td>\n",
       "      <td>0</td>\n",
       "    </tr>\n",
       "    <tr>\n",
       "      <th>4174</th>\n",
       "      <td>2</td>\n",
       "      <td>0.625</td>\n",
       "      <td>0.485</td>\n",
       "      <td>0.150</td>\n",
       "      <td>1.0945</td>\n",
       "      <td>0.5310</td>\n",
       "      <td>0.2610</td>\n",
       "      <td>0.2960</td>\n",
       "      <td>0</td>\n",
       "    </tr>\n",
       "    <tr>\n",
       "      <th>4175</th>\n",
       "      <td>1</td>\n",
       "      <td>0.710</td>\n",
       "      <td>0.555</td>\n",
       "      <td>0.195</td>\n",
       "      <td>1.9485</td>\n",
       "      <td>0.9455</td>\n",
       "      <td>0.3765</td>\n",
       "      <td>0.4950</td>\n",
       "      <td>0</td>\n",
       "    </tr>\n",
       "  </tbody>\n",
       "</table>\n",
       "<p>4176 rows × 9 columns</p>\n",
       "</div>"
      ],
      "text/plain": [
       "      Sex  Length  Diameter  Height  Wholeweight  Shuckedweight  \\\n",
       "0       1   0.350     0.265   0.090       0.2255         0.0995   \n",
       "1       2   0.530     0.420   0.135       0.6770         0.2565   \n",
       "2       1   0.440     0.365   0.125       0.5160         0.2155   \n",
       "3       3   0.330     0.255   0.080       0.2050         0.0895   \n",
       "4       3   0.425     0.300   0.095       0.3515         0.1410   \n",
       "...   ...     ...       ...     ...          ...            ...   \n",
       "4171    2   0.565     0.450   0.165       0.8870         0.3700   \n",
       "4172    1   0.590     0.440   0.135       0.9660         0.4390   \n",
       "4173    1   0.600     0.475   0.205       1.1760         0.5255   \n",
       "4174    2   0.625     0.485   0.150       1.0945         0.5310   \n",
       "4175    1   0.710     0.555   0.195       1.9485         0.9455   \n",
       "\n",
       "      Viseraaweight  Shellweight  Rings  \n",
       "0            0.0485       0.0700      0  \n",
       "1            0.1415       0.2100      0  \n",
       "2            0.1140       0.1550      0  \n",
       "3            0.0395       0.0550      0  \n",
       "4            0.0775       0.1200      0  \n",
       "...             ...          ...    ...  \n",
       "4171         0.2390       0.2490      0  \n",
       "4172         0.2145       0.2605      0  \n",
       "4173         0.2875       0.3080      0  \n",
       "4174         0.2610       0.2960      0  \n",
       "4175         0.3765       0.4950      0  \n",
       "\n",
       "[4176 rows x 9 columns]"
      ]
     },
     "execution_count": 11,
     "metadata": {},
     "output_type": "execute_result"
    }
   ],
   "source": [
    "data"
   ]
  },
  {
   "cell_type": "code",
   "execution_count": 12,
   "metadata": {
    "azdata_cell_guid": "e0208468-1682-4360-8400-2d832b028a56"
   },
   "outputs": [],
   "source": [
    "x = data.drop(['Rings'], axis = 1)\n",
    "y = data.Rings"
   ]
  },
  {
   "cell_type": "code",
   "execution_count": 13,
   "metadata": {
    "azdata_cell_guid": "84f264ac-0a4e-4c32-b36d-67539a6536eb"
   },
   "outputs": [
    {
     "data": {
      "text/plain": [
       "(      Sex  Length  Diameter  Height  Wholeweight  Shuckedweight  \\\n",
       " 0       1   0.350     0.265   0.090       0.2255         0.0995   \n",
       " 1       2   0.530     0.420   0.135       0.6770         0.2565   \n",
       " 2       1   0.440     0.365   0.125       0.5160         0.2155   \n",
       " 3       3   0.330     0.255   0.080       0.2050         0.0895   \n",
       " 4       3   0.425     0.300   0.095       0.3515         0.1410   \n",
       " ...   ...     ...       ...     ...          ...            ...   \n",
       " 4171    2   0.565     0.450   0.165       0.8870         0.3700   \n",
       " 4172    1   0.590     0.440   0.135       0.9660         0.4390   \n",
       " 4173    1   0.600     0.475   0.205       1.1760         0.5255   \n",
       " 4174    2   0.625     0.485   0.150       1.0945         0.5310   \n",
       " 4175    1   0.710     0.555   0.195       1.9485         0.9455   \n",
       " \n",
       "       Viseraaweight  Shellweight  \n",
       " 0            0.0485       0.0700  \n",
       " 1            0.1415       0.2100  \n",
       " 2            0.1140       0.1550  \n",
       " 3            0.0395       0.0550  \n",
       " 4            0.0775       0.1200  \n",
       " ...             ...          ...  \n",
       " 4171         0.2390       0.2490  \n",
       " 4172         0.2145       0.2605  \n",
       " 4173         0.2875       0.3080  \n",
       " 4174         0.2610       0.2960  \n",
       " 4175         0.3765       0.4950  \n",
       " \n",
       " [4176 rows x 8 columns],\n",
       " 0       0\n",
       " 1       0\n",
       " 2       0\n",
       " 3       0\n",
       " 4       0\n",
       "        ..\n",
       " 4171    0\n",
       " 4172    0\n",
       " 4173    0\n",
       " 4174    0\n",
       " 4175    0\n",
       " Name: Rings, Length: 4176, dtype: int64)"
      ]
     },
     "execution_count": 13,
     "metadata": {},
     "output_type": "execute_result"
    }
   ],
   "source": [
    "x, y"
   ]
  },
  {
   "cell_type": "code",
   "execution_count": 14,
   "metadata": {
    "azdata_cell_guid": "5e83835f-f945-4601-af93-2801250a80e5"
   },
   "outputs": [],
   "source": [
    "from sklearn.model_selection import train_test_split\n",
    "\n",
    "x_train, x_test, y_train, y_test = train_test_split(x,y, test_size = 0.3, stratify = y)"
   ]
  },
  {
   "cell_type": "code",
   "execution_count": 15,
   "metadata": {
    "azdata_cell_guid": "67f102e8-2cad-4ab2-871c-79f5508d1835"
   },
   "outputs": [
    {
     "data": {
      "text/plain": [
       "((2923, 8), (1253, 8), (2923,), (1253,))"
      ]
     },
     "execution_count": 15,
     "metadata": {},
     "output_type": "execute_result"
    }
   ],
   "source": [
    "x_train.shape, x_test.shape, y_train.shape, y_test.shape"
   ]
  },
  {
   "cell_type": "markdown",
   "metadata": {
    "azdata_cell_guid": "7425e0b9-d847-4abf-8d05-db29fecd46b5"
   },
   "source": [
    "Train Prevalance Rate"
   ]
  },
  {
   "cell_type": "code",
   "execution_count": 16,
   "metadata": {
    "azdata_cell_guid": "1da621be-77be-40fa-a1b8-8f302f1a6a59"
   },
   "outputs": [
    {
     "data": {
      "text/plain": [
       "0    93.739309\n",
       "1     6.260691\n",
       "Name: Rings, dtype: float64"
      ]
     },
     "execution_count": 16,
     "metadata": {},
     "output_type": "execute_result"
    }
   ],
   "source": [
    "y_train.value_counts(normalize = True) * 100"
   ]
  },
  {
   "cell_type": "markdown",
   "metadata": {
    "azdata_cell_guid": "392e9fcf-2e85-4e16-a541-99e2682fbc6f"
   },
   "source": [
    "Test Prevalance Rate"
   ]
  },
  {
   "cell_type": "code",
   "execution_count": 17,
   "metadata": {
    "azdata_cell_guid": "4d38474a-5a8e-42ce-bfa9-99b1211f5f63"
   },
   "outputs": [
    {
     "data": {
      "text/plain": [
       "0    93.77494\n",
       "1     6.22506\n",
       "Name: Rings, dtype: float64"
      ]
     },
     "execution_count": 17,
     "metadata": {},
     "output_type": "execute_result"
    }
   ],
   "source": [
    "y_test.value_counts(normalize = True) *100"
   ]
  },
  {
   "cell_type": "code",
   "execution_count": 18,
   "metadata": {
    "azdata_cell_guid": "5803d545-cd6f-4e79-9b05-6734c3ef1513"
   },
   "outputs": [
    {
     "data": {
      "text/plain": [
       "LogisticRegression()"
      ]
     },
     "execution_count": 18,
     "metadata": {},
     "output_type": "execute_result"
    }
   ],
   "source": [
    "from sklearn.linear_model import LogisticRegression\n",
    "\n",
    "model = LogisticRegression()\n",
    "model.fit(x_train, y_train)"
   ]
  },
  {
   "cell_type": "code",
   "execution_count": 19,
   "metadata": {
    "azdata_cell_guid": "7fbbec17-f618-4061-a0b4-fdf790288fe0"
   },
   "outputs": [],
   "source": [
    "pred_train = model.predict(x_train)\n",
    "pred_test = model.predict(x_test)"
   ]
  },
  {
   "cell_type": "markdown",
   "metadata": {
    "azdata_cell_guid": "cb644235-60ee-4aaa-8db1-d21a46a5928a",
    "tags": []
   },
   "source": [
    "print('Train Predicted Values ',np.argmax(pred_train, axis  = 1)) \n",
    "print('Test Predicted Values ',np.argmax(pred_test, axis = 1))\n",
    "\n",
    "#### By default our threshold value is 0.5"
   ]
  },
  {
   "cell_type": "code",
   "execution_count": 20,
   "metadata": {
    "azdata_cell_guid": "8eb42631-3928-4f19-a3ff-bf3f892f13ff"
   },
   "outputs": [],
   "source": [
    "from sklearn.metrics import classification_report as cr, confusion_matrix as cm"
   ]
  },
  {
   "cell_type": "code",
   "execution_count": 21,
   "metadata": {
    "azdata_cell_guid": "0c462445-f75d-474b-a15f-b5ccbc39ac01"
   },
   "outputs": [],
   "source": [
    "def metrics_test(a,b):\n",
    "    cr_test = cr(a, b)\n",
    "    print('Test Report: ')\n",
    "    print('\\n',cr_test)\n",
    "    cm_test = cm(a,b)\n",
    "    print('Test Confusion Matrix:')\n",
    "    print('\\n',cm_test)"
   ]
  },
  {
   "cell_type": "code",
   "execution_count": 22,
   "metadata": {
    "azdata_cell_guid": "11273a75-7f9a-4b88-b2d3-2cee8027a4da",
    "tags": []
   },
   "outputs": [],
   "source": [
    "def metrics_train(a,b):\n",
    "    cr_train = cr(a, b)\n",
    "    print(\"Train Report: \")\n",
    "    print('\\n',cr_train)\n",
    "    cm_train = cm(a,b)\n",
    "    print('Train Confusion Matrix:')\n",
    "    print('\\n',cm_train)"
   ]
  },
  {
   "cell_type": "code",
   "execution_count": 23,
   "metadata": {
    "azdata_cell_guid": "57a0273c-ae15-4a40-b460-13baf4a092da"
   },
   "outputs": [
    {
     "name": "stdout",
     "output_type": "stream",
     "text": [
      "Accuracy for Train:  0.9408142319534725\n",
      "Accuracy for Test:  0.9385474860335196\n"
     ]
    }
   ],
   "source": [
    "from sklearn.metrics import accuracy_score\n",
    "\n",
    "print('Accuracy for Train: ',accuracy_score(y_train, pred_train))\n",
    "print('Accuracy for Test: ',accuracy_score(y_test, pred_test))"
   ]
  },
  {
   "cell_type": "code",
   "execution_count": 24,
   "metadata": {},
   "outputs": [
    {
     "name": "stdout",
     "output_type": "stream",
     "text": [
      "Train Report: \n",
      "\n",
      "               precision    recall  f1-score   support\n",
      "\n",
      "           0       0.94      1.00      0.97      2740\n",
      "           1       0.81      0.07      0.13       183\n",
      "\n",
      "    accuracy                           0.94      2923\n",
      "   macro avg       0.88      0.53      0.55      2923\n",
      "weighted avg       0.93      0.94      0.92      2923\n",
      "\n",
      "Train Confusion Matrix:\n",
      "\n",
      " [[2737    3]\n",
      " [ 170   13]]\n"
     ]
    }
   ],
   "source": [
    "metrics_train(y_train, pred_train)"
   ]
  },
  {
   "cell_type": "code",
   "execution_count": 25,
   "metadata": {},
   "outputs": [
    {
     "name": "stdout",
     "output_type": "stream",
     "text": [
      "Test Report: \n",
      "\n",
      "               precision    recall  f1-score   support\n",
      "\n",
      "           0       0.94      1.00      0.97      1175\n",
      "           1       0.55      0.08      0.13        78\n",
      "\n",
      "    accuracy                           0.94      1253\n",
      "   macro avg       0.74      0.54      0.55      1253\n",
      "weighted avg       0.92      0.94      0.92      1253\n",
      "\n",
      "Test Confusion Matrix:\n",
      "\n",
      " [[1170    5]\n",
      " [  72    6]]\n"
     ]
    }
   ],
   "source": [
    "metrics_test(y_test, pred_test)"
   ]
  },
  {
   "cell_type": "markdown",
   "metadata": {
    "azdata_cell_guid": "94654d4a-c584-48fa-bf33-15f5ca6f1bd8"
   },
   "source": [
    "## CASE-1"
   ]
  },
  {
   "cell_type": "code",
   "execution_count": 26,
   "metadata": {
    "azdata_cell_guid": "1dc28fb5-03ac-4d69-aa58-b633c29c5aa8"
   },
   "outputs": [
    {
     "data": {
      "text/html": [
       "<div>\n",
       "<style scoped>\n",
       "    .dataframe tbody tr th:only-of-type {\n",
       "        vertical-align: middle;\n",
       "    }\n",
       "\n",
       "    .dataframe tbody tr th {\n",
       "        vertical-align: top;\n",
       "    }\n",
       "\n",
       "    .dataframe thead th {\n",
       "        text-align: right;\n",
       "    }\n",
       "</style>\n",
       "<table border=\"1\" class=\"dataframe\">\n",
       "  <thead>\n",
       "    <tr style=\"text-align: right;\">\n",
       "      <th></th>\n",
       "      <th>Sex</th>\n",
       "      <th>Length</th>\n",
       "      <th>Diameter</th>\n",
       "      <th>Height</th>\n",
       "      <th>Wholeweight</th>\n",
       "      <th>Shuckedweight</th>\n",
       "      <th>Viseraaweight</th>\n",
       "      <th>Shellweight</th>\n",
       "      <th>Rings</th>\n",
       "    </tr>\n",
       "  </thead>\n",
       "  <tbody>\n",
       "    <tr>\n",
       "      <th>0</th>\n",
       "      <td>M</td>\n",
       "      <td>0.350</td>\n",
       "      <td>0.265</td>\n",
       "      <td>0.090</td>\n",
       "      <td>0.2255</td>\n",
       "      <td>0.0995</td>\n",
       "      <td>0.0485</td>\n",
       "      <td>0.0700</td>\n",
       "      <td>7</td>\n",
       "    </tr>\n",
       "    <tr>\n",
       "      <th>1</th>\n",
       "      <td>F</td>\n",
       "      <td>0.530</td>\n",
       "      <td>0.420</td>\n",
       "      <td>0.135</td>\n",
       "      <td>0.6770</td>\n",
       "      <td>0.2565</td>\n",
       "      <td>0.1415</td>\n",
       "      <td>0.2100</td>\n",
       "      <td>9</td>\n",
       "    </tr>\n",
       "    <tr>\n",
       "      <th>2</th>\n",
       "      <td>M</td>\n",
       "      <td>0.440</td>\n",
       "      <td>0.365</td>\n",
       "      <td>0.125</td>\n",
       "      <td>0.5160</td>\n",
       "      <td>0.2155</td>\n",
       "      <td>0.1140</td>\n",
       "      <td>0.1550</td>\n",
       "      <td>10</td>\n",
       "    </tr>\n",
       "    <tr>\n",
       "      <th>3</th>\n",
       "      <td>I</td>\n",
       "      <td>0.330</td>\n",
       "      <td>0.255</td>\n",
       "      <td>0.080</td>\n",
       "      <td>0.2050</td>\n",
       "      <td>0.0895</td>\n",
       "      <td>0.0395</td>\n",
       "      <td>0.0550</td>\n",
       "      <td>7</td>\n",
       "    </tr>\n",
       "    <tr>\n",
       "      <th>4</th>\n",
       "      <td>I</td>\n",
       "      <td>0.425</td>\n",
       "      <td>0.300</td>\n",
       "      <td>0.095</td>\n",
       "      <td>0.3515</td>\n",
       "      <td>0.1410</td>\n",
       "      <td>0.0775</td>\n",
       "      <td>0.1200</td>\n",
       "      <td>8</td>\n",
       "    </tr>\n",
       "    <tr>\n",
       "      <th>...</th>\n",
       "      <td>...</td>\n",
       "      <td>...</td>\n",
       "      <td>...</td>\n",
       "      <td>...</td>\n",
       "      <td>...</td>\n",
       "      <td>...</td>\n",
       "      <td>...</td>\n",
       "      <td>...</td>\n",
       "      <td>...</td>\n",
       "    </tr>\n",
       "    <tr>\n",
       "      <th>4171</th>\n",
       "      <td>F</td>\n",
       "      <td>0.565</td>\n",
       "      <td>0.450</td>\n",
       "      <td>0.165</td>\n",
       "      <td>0.8870</td>\n",
       "      <td>0.3700</td>\n",
       "      <td>0.2390</td>\n",
       "      <td>0.2490</td>\n",
       "      <td>11</td>\n",
       "    </tr>\n",
       "    <tr>\n",
       "      <th>4172</th>\n",
       "      <td>M</td>\n",
       "      <td>0.590</td>\n",
       "      <td>0.440</td>\n",
       "      <td>0.135</td>\n",
       "      <td>0.9660</td>\n",
       "      <td>0.4390</td>\n",
       "      <td>0.2145</td>\n",
       "      <td>0.2605</td>\n",
       "      <td>10</td>\n",
       "    </tr>\n",
       "    <tr>\n",
       "      <th>4173</th>\n",
       "      <td>M</td>\n",
       "      <td>0.600</td>\n",
       "      <td>0.475</td>\n",
       "      <td>0.205</td>\n",
       "      <td>1.1760</td>\n",
       "      <td>0.5255</td>\n",
       "      <td>0.2875</td>\n",
       "      <td>0.3080</td>\n",
       "      <td>9</td>\n",
       "    </tr>\n",
       "    <tr>\n",
       "      <th>4174</th>\n",
       "      <td>F</td>\n",
       "      <td>0.625</td>\n",
       "      <td>0.485</td>\n",
       "      <td>0.150</td>\n",
       "      <td>1.0945</td>\n",
       "      <td>0.5310</td>\n",
       "      <td>0.2610</td>\n",
       "      <td>0.2960</td>\n",
       "      <td>10</td>\n",
       "    </tr>\n",
       "    <tr>\n",
       "      <th>4175</th>\n",
       "      <td>M</td>\n",
       "      <td>0.710</td>\n",
       "      <td>0.555</td>\n",
       "      <td>0.195</td>\n",
       "      <td>1.9485</td>\n",
       "      <td>0.9455</td>\n",
       "      <td>0.3765</td>\n",
       "      <td>0.4950</td>\n",
       "      <td>12</td>\n",
       "    </tr>\n",
       "  </tbody>\n",
       "</table>\n",
       "<p>4176 rows × 9 columns</p>\n",
       "</div>"
      ],
      "text/plain": [
       "     Sex  Length  Diameter  Height  Wholeweight  Shuckedweight  Viseraaweight  \\\n",
       "0      M   0.350     0.265   0.090       0.2255         0.0995         0.0485   \n",
       "1      F   0.530     0.420   0.135       0.6770         0.2565         0.1415   \n",
       "2      M   0.440     0.365   0.125       0.5160         0.2155         0.1140   \n",
       "3      I   0.330     0.255   0.080       0.2050         0.0895         0.0395   \n",
       "4      I   0.425     0.300   0.095       0.3515         0.1410         0.0775   \n",
       "...   ..     ...       ...     ...          ...            ...            ...   \n",
       "4171   F   0.565     0.450   0.165       0.8870         0.3700         0.2390   \n",
       "4172   M   0.590     0.440   0.135       0.9660         0.4390         0.2145   \n",
       "4173   M   0.600     0.475   0.205       1.1760         0.5255         0.2875   \n",
       "4174   F   0.625     0.485   0.150       1.0945         0.5310         0.2610   \n",
       "4175   M   0.710     0.555   0.195       1.9485         0.9455         0.3765   \n",
       "\n",
       "      Shellweight  Rings  \n",
       "0          0.0700      7  \n",
       "1          0.2100      9  \n",
       "2          0.1550     10  \n",
       "3          0.0550      7  \n",
       "4          0.1200      8  \n",
       "...           ...    ...  \n",
       "4171       0.2490     11  \n",
       "4172       0.2605     10  \n",
       "4173       0.3080      9  \n",
       "4174       0.2960     10  \n",
       "4175       0.4950     12  \n",
       "\n",
       "[4176 rows x 9 columns]"
      ]
     },
     "execution_count": 26,
     "metadata": {},
     "output_type": "execute_result"
    }
   ],
   "source": [
    "df = pd.read_csv('Abalone.csv')\n",
    "df.columns = ['Sex','Length','Diameter','Height','Wholeweight','Shuckedweight','Viseraaweight','Shellweight','Rings']\n",
    "df"
   ]
  },
  {
   "cell_type": "code",
   "execution_count": 27,
   "metadata": {},
   "outputs": [],
   "source": [
    "df.Sex = df.Sex.replace({'M': 1, 'F':2,'I':3})"
   ]
  },
  {
   "cell_type": "code",
   "execution_count": 28,
   "metadata": {},
   "outputs": [
    {
     "data": {
      "text/html": [
       "<div>\n",
       "<style scoped>\n",
       "    .dataframe tbody tr th:only-of-type {\n",
       "        vertical-align: middle;\n",
       "    }\n",
       "\n",
       "    .dataframe tbody tr th {\n",
       "        vertical-align: top;\n",
       "    }\n",
       "\n",
       "    .dataframe thead th {\n",
       "        text-align: right;\n",
       "    }\n",
       "</style>\n",
       "<table border=\"1\" class=\"dataframe\">\n",
       "  <thead>\n",
       "    <tr style=\"text-align: right;\">\n",
       "      <th></th>\n",
       "      <th>Sex</th>\n",
       "      <th>Length</th>\n",
       "      <th>Diameter</th>\n",
       "      <th>Height</th>\n",
       "      <th>Wholeweight</th>\n",
       "      <th>Shuckedweight</th>\n",
       "      <th>Viseraaweight</th>\n",
       "      <th>Shellweight</th>\n",
       "      <th>Rings</th>\n",
       "    </tr>\n",
       "  </thead>\n",
       "  <tbody>\n",
       "    <tr>\n",
       "      <th>0</th>\n",
       "      <td>1</td>\n",
       "      <td>0.350</td>\n",
       "      <td>0.265</td>\n",
       "      <td>0.090</td>\n",
       "      <td>0.2255</td>\n",
       "      <td>0.0995</td>\n",
       "      <td>0.0485</td>\n",
       "      <td>0.0700</td>\n",
       "      <td>7</td>\n",
       "    </tr>\n",
       "    <tr>\n",
       "      <th>1</th>\n",
       "      <td>2</td>\n",
       "      <td>0.530</td>\n",
       "      <td>0.420</td>\n",
       "      <td>0.135</td>\n",
       "      <td>0.6770</td>\n",
       "      <td>0.2565</td>\n",
       "      <td>0.1415</td>\n",
       "      <td>0.2100</td>\n",
       "      <td>9</td>\n",
       "    </tr>\n",
       "    <tr>\n",
       "      <th>2</th>\n",
       "      <td>1</td>\n",
       "      <td>0.440</td>\n",
       "      <td>0.365</td>\n",
       "      <td>0.125</td>\n",
       "      <td>0.5160</td>\n",
       "      <td>0.2155</td>\n",
       "      <td>0.1140</td>\n",
       "      <td>0.1550</td>\n",
       "      <td>10</td>\n",
       "    </tr>\n",
       "    <tr>\n",
       "      <th>3</th>\n",
       "      <td>3</td>\n",
       "      <td>0.330</td>\n",
       "      <td>0.255</td>\n",
       "      <td>0.080</td>\n",
       "      <td>0.2050</td>\n",
       "      <td>0.0895</td>\n",
       "      <td>0.0395</td>\n",
       "      <td>0.0550</td>\n",
       "      <td>7</td>\n",
       "    </tr>\n",
       "    <tr>\n",
       "      <th>4</th>\n",
       "      <td>3</td>\n",
       "      <td>0.425</td>\n",
       "      <td>0.300</td>\n",
       "      <td>0.095</td>\n",
       "      <td>0.3515</td>\n",
       "      <td>0.1410</td>\n",
       "      <td>0.0775</td>\n",
       "      <td>0.1200</td>\n",
       "      <td>8</td>\n",
       "    </tr>\n",
       "    <tr>\n",
       "      <th>...</th>\n",
       "      <td>...</td>\n",
       "      <td>...</td>\n",
       "      <td>...</td>\n",
       "      <td>...</td>\n",
       "      <td>...</td>\n",
       "      <td>...</td>\n",
       "      <td>...</td>\n",
       "      <td>...</td>\n",
       "      <td>...</td>\n",
       "    </tr>\n",
       "    <tr>\n",
       "      <th>4171</th>\n",
       "      <td>2</td>\n",
       "      <td>0.565</td>\n",
       "      <td>0.450</td>\n",
       "      <td>0.165</td>\n",
       "      <td>0.8870</td>\n",
       "      <td>0.3700</td>\n",
       "      <td>0.2390</td>\n",
       "      <td>0.2490</td>\n",
       "      <td>11</td>\n",
       "    </tr>\n",
       "    <tr>\n",
       "      <th>4172</th>\n",
       "      <td>1</td>\n",
       "      <td>0.590</td>\n",
       "      <td>0.440</td>\n",
       "      <td>0.135</td>\n",
       "      <td>0.9660</td>\n",
       "      <td>0.4390</td>\n",
       "      <td>0.2145</td>\n",
       "      <td>0.2605</td>\n",
       "      <td>10</td>\n",
       "    </tr>\n",
       "    <tr>\n",
       "      <th>4173</th>\n",
       "      <td>1</td>\n",
       "      <td>0.600</td>\n",
       "      <td>0.475</td>\n",
       "      <td>0.205</td>\n",
       "      <td>1.1760</td>\n",
       "      <td>0.5255</td>\n",
       "      <td>0.2875</td>\n",
       "      <td>0.3080</td>\n",
       "      <td>9</td>\n",
       "    </tr>\n",
       "    <tr>\n",
       "      <th>4174</th>\n",
       "      <td>2</td>\n",
       "      <td>0.625</td>\n",
       "      <td>0.485</td>\n",
       "      <td>0.150</td>\n",
       "      <td>1.0945</td>\n",
       "      <td>0.5310</td>\n",
       "      <td>0.2610</td>\n",
       "      <td>0.2960</td>\n",
       "      <td>10</td>\n",
       "    </tr>\n",
       "    <tr>\n",
       "      <th>4175</th>\n",
       "      <td>1</td>\n",
       "      <td>0.710</td>\n",
       "      <td>0.555</td>\n",
       "      <td>0.195</td>\n",
       "      <td>1.9485</td>\n",
       "      <td>0.9455</td>\n",
       "      <td>0.3765</td>\n",
       "      <td>0.4950</td>\n",
       "      <td>12</td>\n",
       "    </tr>\n",
       "  </tbody>\n",
       "</table>\n",
       "<p>4176 rows × 9 columns</p>\n",
       "</div>"
      ],
      "text/plain": [
       "      Sex  Length  Diameter  Height  Wholeweight  Shuckedweight  \\\n",
       "0       1   0.350     0.265   0.090       0.2255         0.0995   \n",
       "1       2   0.530     0.420   0.135       0.6770         0.2565   \n",
       "2       1   0.440     0.365   0.125       0.5160         0.2155   \n",
       "3       3   0.330     0.255   0.080       0.2050         0.0895   \n",
       "4       3   0.425     0.300   0.095       0.3515         0.1410   \n",
       "...   ...     ...       ...     ...          ...            ...   \n",
       "4171    2   0.565     0.450   0.165       0.8870         0.3700   \n",
       "4172    1   0.590     0.440   0.135       0.9660         0.4390   \n",
       "4173    1   0.600     0.475   0.205       1.1760         0.5255   \n",
       "4174    2   0.625     0.485   0.150       1.0945         0.5310   \n",
       "4175    1   0.710     0.555   0.195       1.9485         0.9455   \n",
       "\n",
       "      Viseraaweight  Shellweight  Rings  \n",
       "0            0.0485       0.0700      7  \n",
       "1            0.1415       0.2100      9  \n",
       "2            0.1140       0.1550     10  \n",
       "3            0.0395       0.0550      7  \n",
       "4            0.0775       0.1200      8  \n",
       "...             ...          ...    ...  \n",
       "4171         0.2390       0.2490     11  \n",
       "4172         0.2145       0.2605     10  \n",
       "4173         0.2875       0.3080      9  \n",
       "4174         0.2610       0.2960     10  \n",
       "4175         0.3765       0.4950     12  \n",
       "\n",
       "[4176 rows x 9 columns]"
      ]
     },
     "execution_count": 28,
     "metadata": {},
     "output_type": "execute_result"
    }
   ],
   "source": [
    "df"
   ]
  },
  {
   "cell_type": "code",
   "execution_count": 29,
   "metadata": {
    "azdata_cell_guid": "5782ff58-e92e-4200-97e9-0ed61e40712f"
   },
   "outputs": [],
   "source": [
    "df['Rings'] = df['Rings'].mask(df['Rings'] <=10, 0)"
   ]
  },
  {
   "cell_type": "code",
   "execution_count": 30,
   "metadata": {},
   "outputs": [
    {
     "data": {
      "text/html": [
       "<div>\n",
       "<style scoped>\n",
       "    .dataframe tbody tr th:only-of-type {\n",
       "        vertical-align: middle;\n",
       "    }\n",
       "\n",
       "    .dataframe tbody tr th {\n",
       "        vertical-align: top;\n",
       "    }\n",
       "\n",
       "    .dataframe thead th {\n",
       "        text-align: right;\n",
       "    }\n",
       "</style>\n",
       "<table border=\"1\" class=\"dataframe\">\n",
       "  <thead>\n",
       "    <tr style=\"text-align: right;\">\n",
       "      <th></th>\n",
       "      <th>Sex</th>\n",
       "      <th>Length</th>\n",
       "      <th>Diameter</th>\n",
       "      <th>Height</th>\n",
       "      <th>Wholeweight</th>\n",
       "      <th>Shuckedweight</th>\n",
       "      <th>Viseraaweight</th>\n",
       "      <th>Shellweight</th>\n",
       "      <th>Rings</th>\n",
       "    </tr>\n",
       "  </thead>\n",
       "  <tbody>\n",
       "    <tr>\n",
       "      <th>0</th>\n",
       "      <td>1</td>\n",
       "      <td>0.350</td>\n",
       "      <td>0.265</td>\n",
       "      <td>0.090</td>\n",
       "      <td>0.2255</td>\n",
       "      <td>0.0995</td>\n",
       "      <td>0.0485</td>\n",
       "      <td>0.0700</td>\n",
       "      <td>0</td>\n",
       "    </tr>\n",
       "    <tr>\n",
       "      <th>1</th>\n",
       "      <td>2</td>\n",
       "      <td>0.530</td>\n",
       "      <td>0.420</td>\n",
       "      <td>0.135</td>\n",
       "      <td>0.6770</td>\n",
       "      <td>0.2565</td>\n",
       "      <td>0.1415</td>\n",
       "      <td>0.2100</td>\n",
       "      <td>0</td>\n",
       "    </tr>\n",
       "    <tr>\n",
       "      <th>2</th>\n",
       "      <td>1</td>\n",
       "      <td>0.440</td>\n",
       "      <td>0.365</td>\n",
       "      <td>0.125</td>\n",
       "      <td>0.5160</td>\n",
       "      <td>0.2155</td>\n",
       "      <td>0.1140</td>\n",
       "      <td>0.1550</td>\n",
       "      <td>0</td>\n",
       "    </tr>\n",
       "    <tr>\n",
       "      <th>3</th>\n",
       "      <td>3</td>\n",
       "      <td>0.330</td>\n",
       "      <td>0.255</td>\n",
       "      <td>0.080</td>\n",
       "      <td>0.2050</td>\n",
       "      <td>0.0895</td>\n",
       "      <td>0.0395</td>\n",
       "      <td>0.0550</td>\n",
       "      <td>0</td>\n",
       "    </tr>\n",
       "    <tr>\n",
       "      <th>4</th>\n",
       "      <td>3</td>\n",
       "      <td>0.425</td>\n",
       "      <td>0.300</td>\n",
       "      <td>0.095</td>\n",
       "      <td>0.3515</td>\n",
       "      <td>0.1410</td>\n",
       "      <td>0.0775</td>\n",
       "      <td>0.1200</td>\n",
       "      <td>0</td>\n",
       "    </tr>\n",
       "    <tr>\n",
       "      <th>...</th>\n",
       "      <td>...</td>\n",
       "      <td>...</td>\n",
       "      <td>...</td>\n",
       "      <td>...</td>\n",
       "      <td>...</td>\n",
       "      <td>...</td>\n",
       "      <td>...</td>\n",
       "      <td>...</td>\n",
       "      <td>...</td>\n",
       "    </tr>\n",
       "    <tr>\n",
       "      <th>4171</th>\n",
       "      <td>2</td>\n",
       "      <td>0.565</td>\n",
       "      <td>0.450</td>\n",
       "      <td>0.165</td>\n",
       "      <td>0.8870</td>\n",
       "      <td>0.3700</td>\n",
       "      <td>0.2390</td>\n",
       "      <td>0.2490</td>\n",
       "      <td>11</td>\n",
       "    </tr>\n",
       "    <tr>\n",
       "      <th>4172</th>\n",
       "      <td>1</td>\n",
       "      <td>0.590</td>\n",
       "      <td>0.440</td>\n",
       "      <td>0.135</td>\n",
       "      <td>0.9660</td>\n",
       "      <td>0.4390</td>\n",
       "      <td>0.2145</td>\n",
       "      <td>0.2605</td>\n",
       "      <td>0</td>\n",
       "    </tr>\n",
       "    <tr>\n",
       "      <th>4173</th>\n",
       "      <td>1</td>\n",
       "      <td>0.600</td>\n",
       "      <td>0.475</td>\n",
       "      <td>0.205</td>\n",
       "      <td>1.1760</td>\n",
       "      <td>0.5255</td>\n",
       "      <td>0.2875</td>\n",
       "      <td>0.3080</td>\n",
       "      <td>0</td>\n",
       "    </tr>\n",
       "    <tr>\n",
       "      <th>4174</th>\n",
       "      <td>2</td>\n",
       "      <td>0.625</td>\n",
       "      <td>0.485</td>\n",
       "      <td>0.150</td>\n",
       "      <td>1.0945</td>\n",
       "      <td>0.5310</td>\n",
       "      <td>0.2610</td>\n",
       "      <td>0.2960</td>\n",
       "      <td>0</td>\n",
       "    </tr>\n",
       "    <tr>\n",
       "      <th>4175</th>\n",
       "      <td>1</td>\n",
       "      <td>0.710</td>\n",
       "      <td>0.555</td>\n",
       "      <td>0.195</td>\n",
       "      <td>1.9485</td>\n",
       "      <td>0.9455</td>\n",
       "      <td>0.3765</td>\n",
       "      <td>0.4950</td>\n",
       "      <td>12</td>\n",
       "    </tr>\n",
       "  </tbody>\n",
       "</table>\n",
       "<p>4176 rows × 9 columns</p>\n",
       "</div>"
      ],
      "text/plain": [
       "      Sex  Length  Diameter  Height  Wholeweight  Shuckedweight  \\\n",
       "0       1   0.350     0.265   0.090       0.2255         0.0995   \n",
       "1       2   0.530     0.420   0.135       0.6770         0.2565   \n",
       "2       1   0.440     0.365   0.125       0.5160         0.2155   \n",
       "3       3   0.330     0.255   0.080       0.2050         0.0895   \n",
       "4       3   0.425     0.300   0.095       0.3515         0.1410   \n",
       "...   ...     ...       ...     ...          ...            ...   \n",
       "4171    2   0.565     0.450   0.165       0.8870         0.3700   \n",
       "4172    1   0.590     0.440   0.135       0.9660         0.4390   \n",
       "4173    1   0.600     0.475   0.205       1.1760         0.5255   \n",
       "4174    2   0.625     0.485   0.150       1.0945         0.5310   \n",
       "4175    1   0.710     0.555   0.195       1.9485         0.9455   \n",
       "\n",
       "      Viseraaweight  Shellweight  Rings  \n",
       "0            0.0485       0.0700      0  \n",
       "1            0.1415       0.2100      0  \n",
       "2            0.1140       0.1550      0  \n",
       "3            0.0395       0.0550      0  \n",
       "4            0.0775       0.1200      0  \n",
       "...             ...          ...    ...  \n",
       "4171         0.2390       0.2490     11  \n",
       "4172         0.2145       0.2605      0  \n",
       "4173         0.2875       0.3080      0  \n",
       "4174         0.2610       0.2960      0  \n",
       "4175         0.3765       0.4950     12  \n",
       "\n",
       "[4176 rows x 9 columns]"
      ]
     },
     "execution_count": 30,
     "metadata": {},
     "output_type": "execute_result"
    }
   ],
   "source": [
    "df"
   ]
  },
  {
   "cell_type": "code",
   "execution_count": 31,
   "metadata": {
    "azdata_cell_guid": "5cf60522-c231-4996-849b-452a553906c2"
   },
   "outputs": [],
   "source": [
    "df['Rings']= df['Rings'].mask(df['Rings'] > 9, 1)"
   ]
  },
  {
   "cell_type": "code",
   "execution_count": 32,
   "metadata": {},
   "outputs": [
    {
     "data": {
      "text/html": [
       "<div>\n",
       "<style scoped>\n",
       "    .dataframe tbody tr th:only-of-type {\n",
       "        vertical-align: middle;\n",
       "    }\n",
       "\n",
       "    .dataframe tbody tr th {\n",
       "        vertical-align: top;\n",
       "    }\n",
       "\n",
       "    .dataframe thead th {\n",
       "        text-align: right;\n",
       "    }\n",
       "</style>\n",
       "<table border=\"1\" class=\"dataframe\">\n",
       "  <thead>\n",
       "    <tr style=\"text-align: right;\">\n",
       "      <th></th>\n",
       "      <th>Sex</th>\n",
       "      <th>Length</th>\n",
       "      <th>Diameter</th>\n",
       "      <th>Height</th>\n",
       "      <th>Wholeweight</th>\n",
       "      <th>Shuckedweight</th>\n",
       "      <th>Viseraaweight</th>\n",
       "      <th>Shellweight</th>\n",
       "      <th>Rings</th>\n",
       "    </tr>\n",
       "  </thead>\n",
       "  <tbody>\n",
       "    <tr>\n",
       "      <th>0</th>\n",
       "      <td>1</td>\n",
       "      <td>0.350</td>\n",
       "      <td>0.265</td>\n",
       "      <td>0.090</td>\n",
       "      <td>0.2255</td>\n",
       "      <td>0.0995</td>\n",
       "      <td>0.0485</td>\n",
       "      <td>0.0700</td>\n",
       "      <td>0</td>\n",
       "    </tr>\n",
       "    <tr>\n",
       "      <th>1</th>\n",
       "      <td>2</td>\n",
       "      <td>0.530</td>\n",
       "      <td>0.420</td>\n",
       "      <td>0.135</td>\n",
       "      <td>0.6770</td>\n",
       "      <td>0.2565</td>\n",
       "      <td>0.1415</td>\n",
       "      <td>0.2100</td>\n",
       "      <td>0</td>\n",
       "    </tr>\n",
       "    <tr>\n",
       "      <th>2</th>\n",
       "      <td>1</td>\n",
       "      <td>0.440</td>\n",
       "      <td>0.365</td>\n",
       "      <td>0.125</td>\n",
       "      <td>0.5160</td>\n",
       "      <td>0.2155</td>\n",
       "      <td>0.1140</td>\n",
       "      <td>0.1550</td>\n",
       "      <td>0</td>\n",
       "    </tr>\n",
       "    <tr>\n",
       "      <th>3</th>\n",
       "      <td>3</td>\n",
       "      <td>0.330</td>\n",
       "      <td>0.255</td>\n",
       "      <td>0.080</td>\n",
       "      <td>0.2050</td>\n",
       "      <td>0.0895</td>\n",
       "      <td>0.0395</td>\n",
       "      <td>0.0550</td>\n",
       "      <td>0</td>\n",
       "    </tr>\n",
       "    <tr>\n",
       "      <th>4</th>\n",
       "      <td>3</td>\n",
       "      <td>0.425</td>\n",
       "      <td>0.300</td>\n",
       "      <td>0.095</td>\n",
       "      <td>0.3515</td>\n",
       "      <td>0.1410</td>\n",
       "      <td>0.0775</td>\n",
       "      <td>0.1200</td>\n",
       "      <td>0</td>\n",
       "    </tr>\n",
       "    <tr>\n",
       "      <th>...</th>\n",
       "      <td>...</td>\n",
       "      <td>...</td>\n",
       "      <td>...</td>\n",
       "      <td>...</td>\n",
       "      <td>...</td>\n",
       "      <td>...</td>\n",
       "      <td>...</td>\n",
       "      <td>...</td>\n",
       "      <td>...</td>\n",
       "    </tr>\n",
       "    <tr>\n",
       "      <th>4171</th>\n",
       "      <td>2</td>\n",
       "      <td>0.565</td>\n",
       "      <td>0.450</td>\n",
       "      <td>0.165</td>\n",
       "      <td>0.8870</td>\n",
       "      <td>0.3700</td>\n",
       "      <td>0.2390</td>\n",
       "      <td>0.2490</td>\n",
       "      <td>1</td>\n",
       "    </tr>\n",
       "    <tr>\n",
       "      <th>4172</th>\n",
       "      <td>1</td>\n",
       "      <td>0.590</td>\n",
       "      <td>0.440</td>\n",
       "      <td>0.135</td>\n",
       "      <td>0.9660</td>\n",
       "      <td>0.4390</td>\n",
       "      <td>0.2145</td>\n",
       "      <td>0.2605</td>\n",
       "      <td>0</td>\n",
       "    </tr>\n",
       "    <tr>\n",
       "      <th>4173</th>\n",
       "      <td>1</td>\n",
       "      <td>0.600</td>\n",
       "      <td>0.475</td>\n",
       "      <td>0.205</td>\n",
       "      <td>1.1760</td>\n",
       "      <td>0.5255</td>\n",
       "      <td>0.2875</td>\n",
       "      <td>0.3080</td>\n",
       "      <td>0</td>\n",
       "    </tr>\n",
       "    <tr>\n",
       "      <th>4174</th>\n",
       "      <td>2</td>\n",
       "      <td>0.625</td>\n",
       "      <td>0.485</td>\n",
       "      <td>0.150</td>\n",
       "      <td>1.0945</td>\n",
       "      <td>0.5310</td>\n",
       "      <td>0.2610</td>\n",
       "      <td>0.2960</td>\n",
       "      <td>0</td>\n",
       "    </tr>\n",
       "    <tr>\n",
       "      <th>4175</th>\n",
       "      <td>1</td>\n",
       "      <td>0.710</td>\n",
       "      <td>0.555</td>\n",
       "      <td>0.195</td>\n",
       "      <td>1.9485</td>\n",
       "      <td>0.9455</td>\n",
       "      <td>0.3765</td>\n",
       "      <td>0.4950</td>\n",
       "      <td>1</td>\n",
       "    </tr>\n",
       "  </tbody>\n",
       "</table>\n",
       "<p>4176 rows × 9 columns</p>\n",
       "</div>"
      ],
      "text/plain": [
       "      Sex  Length  Diameter  Height  Wholeweight  Shuckedweight  \\\n",
       "0       1   0.350     0.265   0.090       0.2255         0.0995   \n",
       "1       2   0.530     0.420   0.135       0.6770         0.2565   \n",
       "2       1   0.440     0.365   0.125       0.5160         0.2155   \n",
       "3       3   0.330     0.255   0.080       0.2050         0.0895   \n",
       "4       3   0.425     0.300   0.095       0.3515         0.1410   \n",
       "...   ...     ...       ...     ...          ...            ...   \n",
       "4171    2   0.565     0.450   0.165       0.8870         0.3700   \n",
       "4172    1   0.590     0.440   0.135       0.9660         0.4390   \n",
       "4173    1   0.600     0.475   0.205       1.1760         0.5255   \n",
       "4174    2   0.625     0.485   0.150       1.0945         0.5310   \n",
       "4175    1   0.710     0.555   0.195       1.9485         0.9455   \n",
       "\n",
       "      Viseraaweight  Shellweight  Rings  \n",
       "0            0.0485       0.0700      0  \n",
       "1            0.1415       0.2100      0  \n",
       "2            0.1140       0.1550      0  \n",
       "3            0.0395       0.0550      0  \n",
       "4            0.0775       0.1200      0  \n",
       "...             ...          ...    ...  \n",
       "4171         0.2390       0.2490      1  \n",
       "4172         0.2145       0.2605      0  \n",
       "4173         0.2875       0.3080      0  \n",
       "4174         0.2610       0.2960      0  \n",
       "4175         0.3765       0.4950      1  \n",
       "\n",
       "[4176 rows x 9 columns]"
      ]
     },
     "execution_count": 32,
     "metadata": {},
     "output_type": "execute_result"
    }
   ],
   "source": [
    "df"
   ]
  },
  {
   "cell_type": "code",
   "execution_count": 33,
   "metadata": {
    "azdata_cell_guid": "c3f318a6-68b6-4557-a601-b4d7d3cb168c"
   },
   "outputs": [
    {
     "data": {
      "text/plain": [
       "0    0.653736\n",
       "1    0.346264\n",
       "Name: Rings, dtype: float64"
      ]
     },
     "execution_count": 33,
     "metadata": {},
     "output_type": "execute_result"
    }
   ],
   "source": [
    "df.Rings.value_counts(normalize = True)"
   ]
  },
  {
   "cell_type": "markdown",
   "metadata": {
    "azdata_cell_guid": "03843b62-78a5-483a-bb7f-99941bc8b0a3"
   },
   "source": [
    "balanced Dataset"
   ]
  },
  {
   "cell_type": "code",
   "execution_count": 34,
   "metadata": {
    "azdata_cell_guid": "39e8fbca-7389-4d8e-8189-5295208f0bc0"
   },
   "outputs": [],
   "source": [
    "x = df.drop(['Rings'], axis = 1)\n",
    "y = df.Rings"
   ]
  },
  {
   "cell_type": "code",
   "execution_count": 35,
   "metadata": {
    "azdata_cell_guid": "fd3bb855-3dc5-4bf5-a79d-06b003f9cb38"
   },
   "outputs": [],
   "source": [
    "xtrain, xtest, ytrain, ytest = train_test_split(x, y, test_size = 0.3, stratify = y)"
   ]
  },
  {
   "cell_type": "code",
   "execution_count": 36,
   "metadata": {
    "azdata_cell_guid": "b5f8dad0-c162-4bb1-95a2-d778c750c9be"
   },
   "outputs": [
    {
     "data": {
      "text/plain": [
       "((2923, 8), (1253, 8), (2923,), (1253,))"
      ]
     },
     "execution_count": 36,
     "metadata": {},
     "output_type": "execute_result"
    }
   ],
   "source": [
    "xtrain.shape, xtest.shape, ytrain.shape, ytest.shape"
   ]
  },
  {
   "cell_type": "code",
   "execution_count": 37,
   "metadata": {
    "azdata_cell_guid": "e84602f5-a8b0-4f58-9932-99bbaa508734"
   },
   "outputs": [
    {
     "name": "stdout",
     "output_type": "stream",
     "text": [
      "Train Prevalance Rate:  0    65.378036\n",
      "1    34.621964\n",
      "Name: Rings, dtype: float64\n",
      "Test prevalance Rate:  0    65.363128\n",
      "1    34.636872\n",
      "Name: Rings, dtype: float64\n"
     ]
    }
   ],
   "source": [
    "# Prevalance rate\n",
    "\n",
    "print('Train Prevalance Rate: ',ytrain.value_counts(normalize = True)*100)\n",
    "print('Test prevalance Rate: ', ytest.value_counts(normalize = True) * 100)"
   ]
  },
  {
   "cell_type": "code",
   "execution_count": 38,
   "metadata": {
    "azdata_cell_guid": "8bb2fe7f-f84a-4e55-b623-97fe98192232"
   },
   "outputs": [
    {
     "data": {
      "text/plain": [
       "LogisticRegression()"
      ]
     },
     "execution_count": 38,
     "metadata": {},
     "output_type": "execute_result"
    }
   ],
   "source": [
    "model.fit(xtrain, ytrain)"
   ]
  },
  {
   "cell_type": "code",
   "execution_count": 39,
   "metadata": {
    "azdata_cell_guid": "036a72fd-491e-4d7b-b6b9-4ec2edfc617b"
   },
   "outputs": [],
   "source": [
    "pre_train = model.predict(xtrain)\n",
    "pre_test = model.predict(xtest)"
   ]
  },
  {
   "cell_type": "code",
   "execution_count": 40,
   "metadata": {
    "azdata_cell_guid": "605142af-c09a-456f-a1ee-7ba10bb61ad2"
   },
   "outputs": [
    {
     "name": "stdout",
     "output_type": "stream",
     "text": [
      "[1 0 0 ... 0 0 1]\n",
      "[0 1 0 ... 0 0 0]\n"
     ]
    }
   ],
   "source": [
    "print(model.predict(xtrain))\n",
    "print(model.predict(xtest))"
   ]
  },
  {
   "cell_type": "code",
   "execution_count": 41,
   "metadata": {
    "azdata_cell_guid": "536b7552-913b-4c47-b316-341d7ceaa5a4"
   },
   "outputs": [
    {
     "data": {
      "text/plain": [
       "(array([1, 0, 0, ..., 0, 0, 1], dtype=int64),\n",
       " array([0, 1, 0, ..., 0, 0, 0], dtype=int64))"
      ]
     },
     "execution_count": 41,
     "metadata": {},
     "output_type": "execute_result"
    }
   ],
   "source": [
    "pre_train, pre_test"
   ]
  },
  {
   "cell_type": "code",
   "execution_count": 42,
   "metadata": {
    "azdata_cell_guid": "d9aa30ff-893b-4aba-b690-c01f97606ce7"
   },
   "outputs": [
    {
     "name": "stdout",
     "output_type": "stream",
     "text": [
      "Accuracy for Train:  0.7677044132740335\n",
      "Accuracy for Test:  0.7605746209098164\n"
     ]
    }
   ],
   "source": [
    "from sklearn.metrics import accuracy_score\n",
    "\n",
    "print('Accuracy for Train: ',accuracy_score(ytrain, pre_train))\n",
    "print('Accuracy for Test: ',accuracy_score(ytest, pre_test))"
   ]
  },
  {
   "cell_type": "code",
   "execution_count": 43,
   "metadata": {
    "azdata_cell_guid": "1aa7498b-8a96-4368-b646-16e4ff9106f1"
   },
   "outputs": [
    {
     "name": "stdout",
     "output_type": "stream",
     "text": [
      "Test Report: \n",
      "\n",
      "               precision    recall  f1-score   support\n",
      "\n",
      "           0       0.78      0.88      0.83       819\n",
      "           1       0.70      0.54      0.61       434\n",
      "\n",
      "    accuracy                           0.76      1253\n",
      "   macro avg       0.74      0.71      0.72      1253\n",
      "weighted avg       0.75      0.76      0.75      1253\n",
      "\n",
      "Test Confusion Matrix:\n",
      "\n",
      " [[717 102]\n",
      " [198 236]]\n"
     ]
    }
   ],
   "source": [
    "metrics_test(ytest, pre_test)"
   ]
  },
  {
   "cell_type": "code",
   "execution_count": 44,
   "metadata": {
    "azdata_cell_guid": "0db7a120-ec8b-47ce-8cd2-88bf1264a0ee"
   },
   "outputs": [
    {
     "name": "stdout",
     "output_type": "stream",
     "text": [
      "Train Report: \n",
      "\n",
      "               precision    recall  f1-score   support\n",
      "\n",
      "           0       0.79      0.88      0.83      1911\n",
      "           1       0.71      0.55      0.62      1012\n",
      "\n",
      "    accuracy                           0.77      2923\n",
      "   macro avg       0.75      0.72      0.73      2923\n",
      "weighted avg       0.76      0.77      0.76      2923\n",
      "\n",
      "Train Confusion Matrix:\n",
      "\n",
      " [[1686  225]\n",
      " [ 454  558]]\n"
     ]
    }
   ],
   "source": [
    "metrics_train(ytrain, pre_train)"
   ]
  },
  {
   "cell_type": "code",
   "execution_count": 45,
   "metadata": {},
   "outputs": [
    {
     "name": "stdout",
     "output_type": "stream",
     "text": [
      "Optimization terminated successfully.\n",
      "         Current function value: 0.158486\n",
      "         Iterations 9\n"
     ]
    },
    {
     "data": {
      "text/html": [
       "<table class=\"simpletable\">\n",
       "<caption>Logit Regression Results</caption>\n",
       "<tr>\n",
       "  <th>Dep. Variable:</th>         <td>Rings</td>      <th>  No. Observations:  </th>  <td>  2923</td>  \n",
       "</tr>\n",
       "<tr>\n",
       "  <th>Model:</th>                 <td>Logit</td>      <th>  Df Residuals:      </th>  <td>  2914</td>  \n",
       "</tr>\n",
       "<tr>\n",
       "  <th>Method:</th>                 <td>MLE</td>       <th>  Df Model:          </th>  <td>     8</td>  \n",
       "</tr>\n",
       "<tr>\n",
       "  <th>Date:</th>            <td>Wed, 22 Dec 2021</td> <th>  Pseudo R-squ.:     </th>  <td>0.3229</td>  \n",
       "</tr>\n",
       "<tr>\n",
       "  <th>Time:</th>                <td>11:18:40</td>     <th>  Log-Likelihood:    </th> <td> -463.26</td> \n",
       "</tr>\n",
       "<tr>\n",
       "  <th>converged:</th>             <td>True</td>       <th>  LL-Null:           </th> <td> -684.22</td> \n",
       "</tr>\n",
       "<tr>\n",
       "  <th>Covariance Type:</th>     <td>nonrobust</td>    <th>  LLR p-value:       </th> <td>1.984e-90</td>\n",
       "</tr>\n",
       "</table>\n",
       "<table class=\"simpletable\">\n",
       "<tr>\n",
       "        <td></td>           <th>coef</th>     <th>std err</th>      <th>z</th>      <th>P>|z|</th>  <th>[0.025</th>    <th>0.975]</th>  \n",
       "</tr>\n",
       "<tr>\n",
       "  <th>const</th>         <td>   -6.0408</td> <td>    1.171</td> <td>   -5.158</td> <td> 0.000</td> <td>   -8.336</td> <td>   -3.746</td>\n",
       "</tr>\n",
       "<tr>\n",
       "  <th>Sex</th>           <td>   -0.2200</td> <td>    0.136</td> <td>   -1.623</td> <td> 0.105</td> <td>   -0.486</td> <td>    0.046</td>\n",
       "</tr>\n",
       "<tr>\n",
       "  <th>Length</th>        <td>   -3.7512</td> <td>    4.590</td> <td>   -0.817</td> <td> 0.414</td> <td>  -12.748</td> <td>    5.246</td>\n",
       "</tr>\n",
       "<tr>\n",
       "  <th>Diameter</th>      <td>    7.2989</td> <td>    5.368</td> <td>    1.360</td> <td> 0.174</td> <td>   -3.222</td> <td>   17.820</td>\n",
       "</tr>\n",
       "<tr>\n",
       "  <th>Height</th>        <td>   14.0447</td> <td>    4.491</td> <td>    3.127</td> <td> 0.002</td> <td>    5.242</td> <td>   22.847</td>\n",
       "</tr>\n",
       "<tr>\n",
       "  <th>Wholeweight</th>   <td>    8.8009</td> <td>    1.399</td> <td>    6.289</td> <td> 0.000</td> <td>    6.058</td> <td>   11.544</td>\n",
       "</tr>\n",
       "<tr>\n",
       "  <th>Shuckedweight</th> <td>  -19.5979</td> <td>    1.971</td> <td>   -9.945</td> <td> 0.000</td> <td>  -23.460</td> <td>  -15.736</td>\n",
       "</tr>\n",
       "<tr>\n",
       "  <th>Viseraaweight</th> <td>  -10.1517</td> <td>    2.668</td> <td>   -3.805</td> <td> 0.000</td> <td>  -15.381</td> <td>   -4.922</td>\n",
       "</tr>\n",
       "<tr>\n",
       "  <th>Shellweight</th>   <td>    5.9734</td> <td>    2.276</td> <td>    2.625</td> <td> 0.009</td> <td>    1.513</td> <td>   10.434</td>\n",
       "</tr>\n",
       "</table>"
      ],
      "text/plain": [
       "<class 'statsmodels.iolib.summary.Summary'>\n",
       "\"\"\"\n",
       "                           Logit Regression Results                           \n",
       "==============================================================================\n",
       "Dep. Variable:                  Rings   No. Observations:                 2923\n",
       "Model:                          Logit   Df Residuals:                     2914\n",
       "Method:                           MLE   Df Model:                            8\n",
       "Date:                Wed, 22 Dec 2021   Pseudo R-squ.:                  0.3229\n",
       "Time:                        11:18:40   Log-Likelihood:                -463.26\n",
       "converged:                       True   LL-Null:                       -684.22\n",
       "Covariance Type:            nonrobust   LLR p-value:                 1.984e-90\n",
       "=================================================================================\n",
       "                    coef    std err          z      P>|z|      [0.025      0.975]\n",
       "---------------------------------------------------------------------------------\n",
       "const            -6.0408      1.171     -5.158      0.000      -8.336      -3.746\n",
       "Sex              -0.2200      0.136     -1.623      0.105      -0.486       0.046\n",
       "Length           -3.7512      4.590     -0.817      0.414     -12.748       5.246\n",
       "Diameter          7.2989      5.368      1.360      0.174      -3.222      17.820\n",
       "Height           14.0447      4.491      3.127      0.002       5.242      22.847\n",
       "Wholeweight       8.8009      1.399      6.289      0.000       6.058      11.544\n",
       "Shuckedweight   -19.5979      1.971     -9.945      0.000     -23.460     -15.736\n",
       "Viseraaweight   -10.1517      2.668     -3.805      0.000     -15.381      -4.922\n",
       "Shellweight       5.9734      2.276      2.625      0.009       1.513      10.434\n",
       "=================================================================================\n",
       "\"\"\""
      ]
     },
     "execution_count": 45,
     "metadata": {},
     "output_type": "execute_result"
    }
   ],
   "source": [
    "import statsmodels.api as sm\n",
    "\n",
    "sm.Logit(y_train, sm.add_constant(x_train)).fit().summary()"
   ]
  },
  {
   "cell_type": "code",
   "execution_count": 46,
   "metadata": {},
   "outputs": [],
   "source": [
    "from sklearn.preprocessing import MinMaxScaler\n",
    "\n",
    "scale = MinMaxScaler()\n",
    "x_train1 = scale.fit_transform(x_train)\n",
    "x_test1 = scale.transform(x_test)"
   ]
  },
  {
   "cell_type": "code",
   "execution_count": 47,
   "metadata": {},
   "outputs": [
    {
     "data": {
      "text/plain": [
       "LogisticRegression()"
      ]
     },
     "execution_count": 47,
     "metadata": {},
     "output_type": "execute_result"
    }
   ],
   "source": [
    "model.fit(x_train1, y_train)"
   ]
  },
  {
   "cell_type": "code",
   "execution_count": 48,
   "metadata": {},
   "outputs": [
    {
     "data": {
      "text/plain": [
       "array([0, 0, 0, ..., 0, 0, 0], dtype=int64)"
      ]
     },
     "execution_count": 48,
     "metadata": {},
     "output_type": "execute_result"
    }
   ],
   "source": [
    "pr = model.predict(x_test1)\n",
    "pr"
   ]
  },
  {
   "cell_type": "code",
   "execution_count": 49,
   "metadata": {},
   "outputs": [
    {
     "data": {
      "text/plain": [
       "array([0, 0, 0, ..., 0, 0, 0], dtype=int64)"
      ]
     },
     "execution_count": 49,
     "metadata": {},
     "output_type": "execute_result"
    }
   ],
   "source": [
    "pra = model.predict(x_train1)\n",
    "pra"
   ]
  },
  {
   "cell_type": "code",
   "execution_count": 50,
   "metadata": {},
   "outputs": [
    {
     "name": "stdout",
     "output_type": "stream",
     "text": [
      "Accuracy for Train:  0.6530961341087923\n",
      "Accuracy for Test:  0.6512370311252993\n"
     ]
    }
   ],
   "source": [
    "from sklearn.metrics import accuracy_score\n",
    "\n",
    "print('Accuracy for Train: ',accuracy_score(ytrain, pra))\n",
    "print('Accuracy for Test: ',accuracy_score(ytest, pr))"
   ]
  },
  {
   "cell_type": "code",
   "execution_count": 51,
   "metadata": {},
   "outputs": [
    {
     "name": "stdout",
     "output_type": "stream",
     "text": [
      "Optimization terminated successfully.\n",
      "         Current function value: 0.158486\n",
      "         Iterations 9\n"
     ]
    },
    {
     "data": {
      "text/html": [
       "<table class=\"simpletable\">\n",
       "<caption>Logit Regression Results</caption>\n",
       "<tr>\n",
       "  <th>Dep. Variable:</th>         <td>Rings</td>      <th>  No. Observations:  </th>  <td>  2923</td>  \n",
       "</tr>\n",
       "<tr>\n",
       "  <th>Model:</th>                 <td>Logit</td>      <th>  Df Residuals:      </th>  <td>  2914</td>  \n",
       "</tr>\n",
       "<tr>\n",
       "  <th>Method:</th>                 <td>MLE</td>       <th>  Df Model:          </th>  <td>     8</td>  \n",
       "</tr>\n",
       "<tr>\n",
       "  <th>Date:</th>            <td>Wed, 22 Dec 2021</td> <th>  Pseudo R-squ.:     </th>  <td>0.3229</td>  \n",
       "</tr>\n",
       "<tr>\n",
       "  <th>Time:</th>                <td>11:18:40</td>     <th>  Log-Likelihood:    </th> <td> -463.26</td> \n",
       "</tr>\n",
       "<tr>\n",
       "  <th>converged:</th>             <td>True</td>       <th>  LL-Null:           </th> <td> -684.22</td> \n",
       "</tr>\n",
       "<tr>\n",
       "  <th>Covariance Type:</th>     <td>nonrobust</td>    <th>  LLR p-value:       </th> <td>1.984e-90</td>\n",
       "</tr>\n",
       "</table>\n",
       "<table class=\"simpletable\">\n",
       "<tr>\n",
       "    <td></td>       <th>coef</th>     <th>std err</th>      <th>z</th>      <th>P>|z|</th>  <th>[0.025</th>    <th>0.975]</th>  \n",
       "</tr>\n",
       "<tr>\n",
       "  <th>const</th> <td>   -5.9822</td> <td>    0.878</td> <td>   -6.810</td> <td> 0.000</td> <td>   -7.704</td> <td>   -4.260</td>\n",
       "</tr>\n",
       "<tr>\n",
       "  <th>x1</th>    <td>   -0.4400</td> <td>    0.271</td> <td>   -1.623</td> <td> 0.105</td> <td>   -0.971</td> <td>    0.091</td>\n",
       "</tr>\n",
       "<tr>\n",
       "  <th>x2</th>    <td>   -2.5883</td> <td>    3.167</td> <td>   -0.817</td> <td> 0.414</td> <td>   -8.796</td> <td>    3.620</td>\n",
       "</tr>\n",
       "<tr>\n",
       "  <th>x3</th>    <td>    3.9414</td> <td>    2.899</td> <td>    1.360</td> <td> 0.174</td> <td>   -1.740</td> <td>    9.623</td>\n",
       "</tr>\n",
       "<tr>\n",
       "  <th>x4</th>    <td>    7.2330</td> <td>    2.313</td> <td>    3.127</td> <td> 0.002</td> <td>    2.700</td> <td>   11.766</td>\n",
       "</tr>\n",
       "<tr>\n",
       "  <th>x5</th>    <td>   24.7965</td> <td>    3.943</td> <td>    6.289</td> <td> 0.000</td> <td>   17.069</td> <td>   32.524</td>\n",
       "</tr>\n",
       "<tr>\n",
       "  <th>x6</th>    <td>  -29.1127</td> <td>    2.927</td> <td>   -9.945</td> <td> 0.000</td> <td>  -34.850</td> <td>  -23.375</td>\n",
       "</tr>\n",
       "<tr>\n",
       "  <th>x7</th>    <td>   -6.5072</td> <td>    1.710</td> <td>   -3.805</td> <td> 0.000</td> <td>   -9.859</td> <td>   -3.155</td>\n",
       "</tr>\n",
       "<tr>\n",
       "  <th>x8</th>    <td>    5.9854</td> <td>    2.280</td> <td>    2.625</td> <td> 0.009</td> <td>    1.516</td> <td>   10.455</td>\n",
       "</tr>\n",
       "</table>"
      ],
      "text/plain": [
       "<class 'statsmodels.iolib.summary.Summary'>\n",
       "\"\"\"\n",
       "                           Logit Regression Results                           \n",
       "==============================================================================\n",
       "Dep. Variable:                  Rings   No. Observations:                 2923\n",
       "Model:                          Logit   Df Residuals:                     2914\n",
       "Method:                           MLE   Df Model:                            8\n",
       "Date:                Wed, 22 Dec 2021   Pseudo R-squ.:                  0.3229\n",
       "Time:                        11:18:40   Log-Likelihood:                -463.26\n",
       "converged:                       True   LL-Null:                       -684.22\n",
       "Covariance Type:            nonrobust   LLR p-value:                 1.984e-90\n",
       "==============================================================================\n",
       "                 coef    std err          z      P>|z|      [0.025      0.975]\n",
       "------------------------------------------------------------------------------\n",
       "const         -5.9822      0.878     -6.810      0.000      -7.704      -4.260\n",
       "x1            -0.4400      0.271     -1.623      0.105      -0.971       0.091\n",
       "x2            -2.5883      3.167     -0.817      0.414      -8.796       3.620\n",
       "x3             3.9414      2.899      1.360      0.174      -1.740       9.623\n",
       "x4             7.2330      2.313      3.127      0.002       2.700      11.766\n",
       "x5            24.7965      3.943      6.289      0.000      17.069      32.524\n",
       "x6           -29.1127      2.927     -9.945      0.000     -34.850     -23.375\n",
       "x7            -6.5072      1.710     -3.805      0.000      -9.859      -3.155\n",
       "x8             5.9854      2.280      2.625      0.009       1.516      10.455\n",
       "==============================================================================\n",
       "\"\"\""
      ]
     },
     "execution_count": 51,
     "metadata": {},
     "output_type": "execute_result"
    }
   ],
   "source": [
    "sm.Logit(y_train, sm.add_constant(x_train1)).fit().summary()"
   ]
  },
  {
   "cell_type": "code",
   "execution_count": 52,
   "metadata": {},
   "outputs": [],
   "source": [
    "x_train2 = scale.fit_transform(x_train)\n",
    "x_test2  =scale.fit_transform(x_test)"
   ]
  },
  {
   "cell_type": "code",
   "execution_count": 53,
   "metadata": {},
   "outputs": [
    {
     "data": {
      "text/plain": [
       "LogisticRegression()"
      ]
     },
     "execution_count": 53,
     "metadata": {},
     "output_type": "execute_result"
    }
   ],
   "source": [
    "model.fit(x_train2, y_train)"
   ]
  },
  {
   "cell_type": "code",
   "execution_count": 54,
   "metadata": {},
   "outputs": [],
   "source": [
    "pwq = model.predict(x_train2)\n",
    "per = model.predict(x_test2)"
   ]
  },
  {
   "cell_type": "code",
   "execution_count": 55,
   "metadata": {},
   "outputs": [
    {
     "name": "stdout",
     "output_type": "stream",
     "text": [
      "Accuracy for Train:  0.6530961341087923\n",
      "Accuracy for Test:  0.6520351157222666\n"
     ]
    }
   ],
   "source": [
    "print('Accuracy for Train: ',accuracy_score(ytrain, pwq))\n",
    "print('Accuracy for Test: ',accuracy_score(ytest, per))"
   ]
  },
  {
   "cell_type": "code",
   "execution_count": 56,
   "metadata": {},
   "outputs": [
    {
     "name": "stdout",
     "output_type": "stream",
     "text": [
      "Optimization terminated successfully.\n",
      "         Current function value: 0.158486\n",
      "         Iterations 9\n"
     ]
    },
    {
     "data": {
      "text/html": [
       "<table class=\"simpletable\">\n",
       "<caption>Logit Regression Results</caption>\n",
       "<tr>\n",
       "  <th>Dep. Variable:</th>         <td>Rings</td>      <th>  No. Observations:  </th>  <td>  2923</td>  \n",
       "</tr>\n",
       "<tr>\n",
       "  <th>Model:</th>                 <td>Logit</td>      <th>  Df Residuals:      </th>  <td>  2914</td>  \n",
       "</tr>\n",
       "<tr>\n",
       "  <th>Method:</th>                 <td>MLE</td>       <th>  Df Model:          </th>  <td>     8</td>  \n",
       "</tr>\n",
       "<tr>\n",
       "  <th>Date:</th>            <td>Wed, 22 Dec 2021</td> <th>  Pseudo R-squ.:     </th>  <td>0.3229</td>  \n",
       "</tr>\n",
       "<tr>\n",
       "  <th>Time:</th>                <td>11:18:41</td>     <th>  Log-Likelihood:    </th> <td> -463.26</td> \n",
       "</tr>\n",
       "<tr>\n",
       "  <th>converged:</th>             <td>True</td>       <th>  LL-Null:           </th> <td> -684.22</td> \n",
       "</tr>\n",
       "<tr>\n",
       "  <th>Covariance Type:</th>     <td>nonrobust</td>    <th>  LLR p-value:       </th> <td>1.984e-90</td>\n",
       "</tr>\n",
       "</table>\n",
       "<table class=\"simpletable\">\n",
       "<tr>\n",
       "    <td></td>       <th>coef</th>     <th>std err</th>      <th>z</th>      <th>P>|z|</th>  <th>[0.025</th>    <th>0.975]</th>  \n",
       "</tr>\n",
       "<tr>\n",
       "  <th>const</th> <td>   -5.9822</td> <td>    0.878</td> <td>   -6.810</td> <td> 0.000</td> <td>   -7.704</td> <td>   -4.260</td>\n",
       "</tr>\n",
       "<tr>\n",
       "  <th>x1</th>    <td>   -0.4400</td> <td>    0.271</td> <td>   -1.623</td> <td> 0.105</td> <td>   -0.971</td> <td>    0.091</td>\n",
       "</tr>\n",
       "<tr>\n",
       "  <th>x2</th>    <td>   -2.5883</td> <td>    3.167</td> <td>   -0.817</td> <td> 0.414</td> <td>   -8.796</td> <td>    3.620</td>\n",
       "</tr>\n",
       "<tr>\n",
       "  <th>x3</th>    <td>    3.9414</td> <td>    2.899</td> <td>    1.360</td> <td> 0.174</td> <td>   -1.740</td> <td>    9.623</td>\n",
       "</tr>\n",
       "<tr>\n",
       "  <th>x4</th>    <td>    7.2330</td> <td>    2.313</td> <td>    3.127</td> <td> 0.002</td> <td>    2.700</td> <td>   11.766</td>\n",
       "</tr>\n",
       "<tr>\n",
       "  <th>x5</th>    <td>   24.7965</td> <td>    3.943</td> <td>    6.289</td> <td> 0.000</td> <td>   17.069</td> <td>   32.524</td>\n",
       "</tr>\n",
       "<tr>\n",
       "  <th>x6</th>    <td>  -29.1127</td> <td>    2.927</td> <td>   -9.945</td> <td> 0.000</td> <td>  -34.850</td> <td>  -23.375</td>\n",
       "</tr>\n",
       "<tr>\n",
       "  <th>x7</th>    <td>   -6.5072</td> <td>    1.710</td> <td>   -3.805</td> <td> 0.000</td> <td>   -9.859</td> <td>   -3.155</td>\n",
       "</tr>\n",
       "<tr>\n",
       "  <th>x8</th>    <td>    5.9854</td> <td>    2.280</td> <td>    2.625</td> <td> 0.009</td> <td>    1.516</td> <td>   10.455</td>\n",
       "</tr>\n",
       "</table>"
      ],
      "text/plain": [
       "<class 'statsmodels.iolib.summary.Summary'>\n",
       "\"\"\"\n",
       "                           Logit Regression Results                           \n",
       "==============================================================================\n",
       "Dep. Variable:                  Rings   No. Observations:                 2923\n",
       "Model:                          Logit   Df Residuals:                     2914\n",
       "Method:                           MLE   Df Model:                            8\n",
       "Date:                Wed, 22 Dec 2021   Pseudo R-squ.:                  0.3229\n",
       "Time:                        11:18:41   Log-Likelihood:                -463.26\n",
       "converged:                       True   LL-Null:                       -684.22\n",
       "Covariance Type:            nonrobust   LLR p-value:                 1.984e-90\n",
       "==============================================================================\n",
       "                 coef    std err          z      P>|z|      [0.025      0.975]\n",
       "------------------------------------------------------------------------------\n",
       "const         -5.9822      0.878     -6.810      0.000      -7.704      -4.260\n",
       "x1            -0.4400      0.271     -1.623      0.105      -0.971       0.091\n",
       "x2            -2.5883      3.167     -0.817      0.414      -8.796       3.620\n",
       "x3             3.9414      2.899      1.360      0.174      -1.740       9.623\n",
       "x4             7.2330      2.313      3.127      0.002       2.700      11.766\n",
       "x5            24.7965      3.943      6.289      0.000      17.069      32.524\n",
       "x6           -29.1127      2.927     -9.945      0.000     -34.850     -23.375\n",
       "x7            -6.5072      1.710     -3.805      0.000      -9.859      -3.155\n",
       "x8             5.9854      2.280      2.625      0.009       1.516      10.455\n",
       "==============================================================================\n",
       "\"\"\""
      ]
     },
     "execution_count": 56,
     "metadata": {},
     "output_type": "execute_result"
    }
   ],
   "source": [
    "sm.Logit(y_train, sm.add_constant(x_train2)).fit().summary()"
   ]
  },
  {
   "cell_type": "code",
   "execution_count": 57,
   "metadata": {},
   "outputs": [
    {
     "data": {
      "text/plain": [
       "KNeighborsClassifier()"
      ]
     },
     "execution_count": 57,
     "metadata": {},
     "output_type": "execute_result"
    }
   ],
   "source": [
    "from sklearn.neighbors import KNeighborsClassifier\n",
    "\n",
    "knn = KNeighborsClassifier()\n",
    "knn.fit(x_train, y_train)"
   ]
  },
  {
   "cell_type": "code",
   "execution_count": 58,
   "metadata": {},
   "outputs": [],
   "source": [
    "        pre_train = model.predict(x_train)\n",
    "        pre_test = model.predict(x_test)"
   ]
  },
  {
   "cell_type": "code",
   "execution_count": 59,
   "metadata": {},
   "outputs": [
    {
     "name": "stdout",
     "output_type": "stream",
     "text": [
      "Accuracy for Train:  0.9394457748888129\n",
      "Accuracy for Test:  0.9393455706304868\n"
     ]
    }
   ],
   "source": [
    "from sklearn.metrics import accuracy_score\n",
    "\n",
    "print('Accuracy for Train: ',accuracy_score(y_train, pre_train))\n",
    "print('Accuracy for Test: ',accuracy_score(y_test, pre_test))"
   ]
  },
  {
   "cell_type": "code",
   "execution_count": 60,
   "metadata": {
    "scrolled": false
   },
   "outputs": [
    {
     "name": "stderr",
     "output_type": "stream",
     "text": [
      "100%|████████████████████████████████████████████████████████████████████████████████| 200/200 [00:42<00:00,  4.76it/s]\n"
     ]
    }
   ],
   "source": [
    "from tqdm import tqdm\n",
    "Result = pd.DataFrame(columns = ['K', 'Training','Test'])\n",
    "\n",
    "for k in tqdm(range(1,201)):\n",
    "    knn = KNeighborsClassifier(n_neighbors= k)\n",
    "    knn.fit(x_train, y_train)\n",
    "    \n",
    "    pre_train = knn.predict(x_train)\n",
    "    pre_test = knn.predict(x_test)\n",
    "    \n",
    "    Result = Result.append({'K': k, 'Training': accuracy_score(y_train, pre_train), 'Test': accuracy_score(y_test, pre_test)}, ignore_index =True)\n"
   ]
  },
  {
   "cell_type": "code",
   "execution_count": 61,
   "metadata": {
    "scrolled": false
   },
   "outputs": [
    {
     "data": {
      "text/html": [
       "<div>\n",
       "<style scoped>\n",
       "    .dataframe tbody tr th:only-of-type {\n",
       "        vertical-align: middle;\n",
       "    }\n",
       "\n",
       "    .dataframe tbody tr th {\n",
       "        vertical-align: top;\n",
       "    }\n",
       "\n",
       "    .dataframe thead th {\n",
       "        text-align: right;\n",
       "    }\n",
       "</style>\n",
       "<table border=\"1\" class=\"dataframe\">\n",
       "  <thead>\n",
       "    <tr style=\"text-align: right;\">\n",
       "      <th></th>\n",
       "      <th>K</th>\n",
       "      <th>Training</th>\n",
       "      <th>Test</th>\n",
       "    </tr>\n",
       "  </thead>\n",
       "  <tbody>\n",
       "    <tr>\n",
       "      <th>0</th>\n",
       "      <td>1.0</td>\n",
       "      <td>1.000000</td>\n",
       "      <td>0.920990</td>\n",
       "    </tr>\n",
       "    <tr>\n",
       "      <th>1</th>\n",
       "      <td>2.0</td>\n",
       "      <td>0.955183</td>\n",
       "      <td>0.937749</td>\n",
       "    </tr>\n",
       "    <tr>\n",
       "      <th>2</th>\n",
       "      <td>3.0</td>\n",
       "      <td>0.958604</td>\n",
       "      <td>0.941740</td>\n",
       "    </tr>\n",
       "    <tr>\n",
       "      <th>3</th>\n",
       "      <td>4.0</td>\n",
       "      <td>0.944577</td>\n",
       "      <td>0.942538</td>\n",
       "    </tr>\n",
       "    <tr>\n",
       "      <th>4</th>\n",
       "      <td>5.0</td>\n",
       "      <td>0.947999</td>\n",
       "      <td>0.942538</td>\n",
       "    </tr>\n",
       "    <tr>\n",
       "      <th>...</th>\n",
       "      <td>...</td>\n",
       "      <td>...</td>\n",
       "      <td>...</td>\n",
       "    </tr>\n",
       "    <tr>\n",
       "      <th>195</th>\n",
       "      <td>196.0</td>\n",
       "      <td>0.937393</td>\n",
       "      <td>0.937749</td>\n",
       "    </tr>\n",
       "    <tr>\n",
       "      <th>196</th>\n",
       "      <td>197.0</td>\n",
       "      <td>0.937393</td>\n",
       "      <td>0.937749</td>\n",
       "    </tr>\n",
       "    <tr>\n",
       "      <th>197</th>\n",
       "      <td>198.0</td>\n",
       "      <td>0.937393</td>\n",
       "      <td>0.937749</td>\n",
       "    </tr>\n",
       "    <tr>\n",
       "      <th>198</th>\n",
       "      <td>199.0</td>\n",
       "      <td>0.937393</td>\n",
       "      <td>0.937749</td>\n",
       "    </tr>\n",
       "    <tr>\n",
       "      <th>199</th>\n",
       "      <td>200.0</td>\n",
       "      <td>0.937393</td>\n",
       "      <td>0.937749</td>\n",
       "    </tr>\n",
       "  </tbody>\n",
       "</table>\n",
       "<p>200 rows × 3 columns</p>\n",
       "</div>"
      ],
      "text/plain": [
       "         K  Training      Test\n",
       "0      1.0  1.000000  0.920990\n",
       "1      2.0  0.955183  0.937749\n",
       "2      3.0  0.958604  0.941740\n",
       "3      4.0  0.944577  0.942538\n",
       "4      5.0  0.947999  0.942538\n",
       "..     ...       ...       ...\n",
       "195  196.0  0.937393  0.937749\n",
       "196  197.0  0.937393  0.937749\n",
       "197  198.0  0.937393  0.937749\n",
       "198  199.0  0.937393  0.937749\n",
       "199  200.0  0.937393  0.937749\n",
       "\n",
       "[200 rows x 3 columns]"
      ]
     },
     "execution_count": 61,
     "metadata": {},
     "output_type": "execute_result"
    }
   ],
   "source": [
    "Result"
   ]
  },
  {
   "cell_type": "code",
   "execution_count": 62,
   "metadata": {},
   "outputs": [
    {
     "data": {
      "text/plain": [
       "<AxesSubplot:xlabel='K', ylabel='Training'>"
      ]
     },
     "execution_count": 62,
     "metadata": {},
     "output_type": "execute_result"
    },
    {
     "data": {
      "image/png": "[encoded data removed]",
      "text/plain": [
       "<Figure size 1080x720 with 1 Axes>"
      ]
     },
     "metadata": {
      "needs_background": "light"
     },
     "output_type": "display_data"
    }
   ],
   "source": [
    "plt.figure(figsize = (15,10))\n",
    "sns.lineplot(data = Result, x = 'K', y = 'Training')\n",
    "sns.lineplot(data = Result, x = 'K', y = 'Test')\n"
   ]
  },
  {
   "cell_type": "code",
   "execution_count": 63,
   "metadata": {
    "scrolled": true
   },
   "outputs": [
    {
     "name": "stderr",
     "output_type": "stream",
     "text": [
      "100%|██████████████████████████████████████████████████████████████████████████████████| 25/25 [00:03<00:00,  6.80it/s]\n"
     ]
    }
   ],
   "source": [
    "from tqdm import tqdm\n",
    "Result = pd.DataFrame(columns = ['K', 'Training','Test'])\n",
    "\n",
    "for k in tqdm(range(1,26)):\n",
    "    knn = KNeighborsClassifier(n_neighbors= k)\n",
    "    knn.fit(x_train, y_train)\n",
    "    \n",
    "    pre_train = knn.predict(x_train)\n",
    "    pre_test = knn.predict(x_test)\n",
    "    \n",
    "    Result = Result.append({'K': k, 'Training': accuracy_score(y_train, pre_train), 'Test': accuracy_score(y_test, pre_test)}, ignore_index =True)\n"
   ]
  },
  {
   "cell_type": "code",
   "execution_count": 64,
   "metadata": {},
   "outputs": [
    {
     "data": {
      "text/plain": [
       "<AxesSubplot:xlabel='K', ylabel='Training'>"
      ]
     },
     "execution_count": 64,
     "metadata": {},
     "output_type": "execute_result"
    },
    {
     "data": {
      "image/png": "[encoded data removed]",
      "text/plain": [
       "<Figure size 1080x720 with 1 Axes>"
      ]
     },
     "metadata": {
      "needs_background": "light"
     },
     "output_type": "display_data"
    }
   ],
   "source": [
    "plt.figure(figsize = (15,10))\n",
    "sns.lineplot(data = Result, x = 'K', y = 'Training')\n",
    "sns.lineplot(data = Result, x = 'K', y = 'Test')\n"
   ]
  },
  {
   "cell_type": "code",
   "execution_count": 69,
   "metadata": {},
   "outputs": [
    {
     "name": "stdout",
     "output_type": "stream",
     "text": [
      "Accuracy for Train:  0.9586041737940472\n",
      "Accuracy for Test:  0.9417398244213887\n"
     ]
    }
   ],
   "source": [
    "knn = KNeighborsClassifier(n_neighbors= 3)\n",
    "knn.fit(x_train, y_train)\n",
    "\n",
    "pre_train = knn.predict(x_train)\n",
    "pre_test = knn.predict(x_test)\n",
    "\n",
    "print('Accuracy for Train: ',accuracy_score(y_train, pre_train))\n",
    "print('Accuracy for Test: ',accuracy_score(y_test, pre_test))"
   ]
  },
  {
   "cell_type": "code",
   "execution_count": 70,
   "metadata": {},
   "outputs": [
    {
     "name": "stdout",
     "output_type": "stream",
     "text": [
      "Accuracy for Train:  0.9445774888812863\n",
      "Accuracy for Test:  0.942537909018356\n"
     ]
    }
   ],
   "source": [
    "knn = KNeighborsClassifier(n_neighbors= 4)\n",
    "knn.fit(x_train, y_train)\n",
    "\n",
    "pre_train = knn.predict(x_train)\n",
    "pre_test = knn.predict(x_test)\n",
    "\n",
    "print('Accuracy for Train: ',accuracy_score(y_train, pre_train))\n",
    "print('Accuracy for Test: ',accuracy_score(y_test, pre_test))"
   ]
  },
  {
   "cell_type": "code",
   "execution_count": null,
   "metadata": {},
   "outputs": [],
   "source": []
  }
 ],
 "metadata": {
  "kernelspec": {
   "display_name": "Python 3",
   "language": "python",
   "name": "python3"
  },
  "language_info": {
   "codemirror_mode": {
    "name": "ipython",
    "version": 3
   },
   "file_extension": ".py",
   "mimetype": "text/x-python",
   "name": "python",
   "nbconvert_exporter": "python",
   "pygments_lexer": "ipython3",
   "version": "3.8.8"
  }
 },
 "nbformat": 4,
 "nbformat_minor": 2
}
